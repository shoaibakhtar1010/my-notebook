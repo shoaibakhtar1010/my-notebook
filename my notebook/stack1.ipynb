{
 "cells": [
  {
   "cell_type": "code",
   "execution_count": null,
   "metadata": {},
   "outputs": [],
   "source": [
    "def ssp(a1):\n",
    "    s=Stack()\n",
    "    a2=[]\n",
    "    l=len(a1)\n",
    "    k=[]\n",
    "    for i in range(0,l):\n",
    "        if s.size()==0:\n",
    "            a2.append(-1)\n",
    "        elif s.size()>0 and a1[s.peek()]>a1[i]:\n",
    "            a2.append(s.peek())\n",
    "        else:\n",
    "            while s.size()>0 and a1[s.peek()]<=a1[i]:\n",
    "                s.pop()\n",
    "            if s.size()==0:\n",
    "                a2.append(-1)\n",
    "            else:\n",
    "                a2.append(s.peek())\n",
    "        s.push(i)\n",
    "    for i in range(0,l):\n",
    "        k.append(i-a2[i])\n",
    "    return k\n",
    "    "
   ]
  }
 ],
 "metadata": {
  "kernelspec": {
   "display_name": "Python 3",
   "language": "python",
   "name": "python3"
  },
  "language_info": {
   "codemirror_mode": {
    "name": "ipython",
    "version": 3
   },
   "file_extension": ".py",
   "mimetype": "text/x-python",
   "name": "python",
   "nbconvert_exporter": "python",
   "pygments_lexer": "ipython3",
   "version": "3.7.4"
  }
 },
 "nbformat": 4,
 "nbformat_minor": 2
}
