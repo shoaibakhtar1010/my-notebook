{
 "cells": [
  {
   "cell_type": "code",
   "execution_count": 34,
   "metadata": {},
   "outputs": [],
   "source": [
    "def search2dmatrix(A,key):\n",
    "    m=len(A)\n",
    "    n=len(A[0])\n",
    "    i=0\n",
    "    j=n-1\n",
    "    while( i<m and j>=0 ):\n",
    "        if A[i][j]==key:\n",
    "            return i,j\n",
    "            break\n",
    "        \n",
    "        elif A[i][j]>key:\n",
    "            j-=1\n",
    "        else:\n",
    "            i+=1\n",
    "    return -1\n",
    "    "
   ]
  },
  {
   "cell_type": "code",
   "execution_count": 35,
   "metadata": {},
   "outputs": [
    {
     "data": {
      "text/plain": [
       "(2, 2)"
      ]
     },
     "execution_count": 35,
     "metadata": {},
     "output_type": "execute_result"
    }
   ],
   "source": [
    "a=[[1, 2, 3, 4], [5, 6, 7,8], [9, 10, 11, 12]]\n",
    "k=a[0][3]\n",
    "j=len(a)\n",
    "k,j\n",
    "search2dmatrix(a,11)"
   ]
  },
  {
   "cell_type": "code",
   "execution_count": 2,
   "metadata": {},
   "outputs": [
    {
     "data": {
      "text/plain": [
       "4"
      ]
     },
     "execution_count": 2,
     "metadata": {},
     "output_type": "execute_result"
    }
   ],
   "source": [
    "sea"
   ]
  },
  {
   "cell_type": "code",
   "execution_count": 3,
   "metadata": {},
   "outputs": [
    {
     "data": {
      "text/plain": [
       "4"
      ]
     },
     "execution_count": 3,
     "metadata": {},
     "output_type": "execute_result"
    }
   ],
   "source": []
  },
  {
   "cell_type": "code",
   "execution_count": 28,
   "metadata": {},
   "outputs": [
    {
     "data": {
      "text/plain": [
       "(2, 2)"
      ]
     },
     "execution_count": 28,
     "metadata": {},
     "output_type": "execute_result"
    }
   ],
   "source": [
    "4\n",
    "# Python3 program to search an element  \n",
    "# in row-wise and column-wise sorted matrix \n",
    "  \n",
    "# Searches the element x in mat[][]. If the  \n",
    "# element is found, then prints its position  \n",
    "# and returns true, otherwise prints \"not found\" \n",
    "# and returns false \n",
    "def search(mat,x): \n",
    "    n=len(mat[0])\n",
    "    m=len(mat)\n",
    "  \n",
    "    i = 0\n",
    "      \n",
    "    # set indexes for top right element \n",
    "    j = n - 1\n",
    "    while ( i < m and j >= 0 ): \n",
    "      \n",
    "        if (mat[i][j] == x ): \n",
    "      \n",
    "             \n",
    "            return i,j\n",
    "      \n",
    "        elif (mat[i][j] > x ): \n",
    "            j -= 1\n",
    "              \n",
    "        # if mat[i][j] < x \n",
    "        else:  \n",
    "            i += 1\n",
    "      \n",
    "    print(\"Element not found\") \n",
    "    return -1# if (i == n || j == -1 ) \n",
    "  \n",
    "# Driver Code \n",
    "a=[[1, 2, 3, 4], [5, 6, 7,8], [9, 10, 11, 12]]\n",
    "search(a, 11) \n",
    "  \n",
    "# This code is contributed by Anant Agarwal. "
   ]
  },
  {
   "cell_type": "code",
   "execution_count": null,
   "metadata": {},
   "outputs": [],
   "source": []
  },
  {
   "cell_type": "code",
   "execution_count": null,
   "metadata": {},
   "outputs": [],
   "source": [
    "a=[[1, 2, 3, 4], [5, 6, 7,8], [9, 10, 11, 12]]\n",
    "m=len(a)\n",
    "n=len(a[0])\n",
    "search2dmatrix(a,m,n,13)"
   ]
  },
  {
   "cell_type": "code",
   "execution_count": null,
   "metadata": {},
   "outputs": [],
   "source": []
  }
 ],
 "metadata": {
  "kernelspec": {
   "display_name": "Python 3",
   "language": "python",
   "name": "python3"
  },
  "language_info": {
   "codemirror_mode": {
    "name": "ipython",
    "version": 3
   },
   "file_extension": ".py",
   "mimetype": "text/x-python",
   "name": "python",
   "nbconvert_exporter": "python",
   "pygments_lexer": "ipython3",
   "version": "3.7.4"
  }
 },
 "nbformat": 4,
 "nbformat_minor": 2
}
