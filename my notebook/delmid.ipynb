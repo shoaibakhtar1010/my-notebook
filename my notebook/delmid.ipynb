{
 "cells": [
  {
   "cell_type": "code",
   "execution_count": 31,
   "metadata": {},
   "outputs": [
    {
     "name": "stdout",
     "output_type": "stream",
     "text": [
      "[1, 2, 3, 5, 6]\n"
     ]
    }
   ],
   "source": [
    "def delete_mid(A,mid):\n",
    "    l=len(A)\n",
    "    if len(A)==mid:\n",
    "        A.pop()\n",
    "        return \n",
    "    k=A.pop()\n",
    "    delete_mid(A,mid)\n",
    "    A.append(k)\n",
    "    return A \n",
    "if __name__=='__main__':\n",
    "    A=[1,2,3,4,5,6]\n",
    "    mid=(len(A)//2)+1\n",
    "    print(delete_mid(A,mid))\n",
    "    "
   ]
  },
  {
   "cell_type": "code",
   "execution_count": 29,
   "metadata": {
    "scrolled": true
   },
   "outputs": [
    {
     "name": "stdout",
     "output_type": "stream",
     "text": [
      "Enter the list items : 1 2 3 4\n",
      "Enter the list items : 56 65 43\n",
      "[1, 2, 3, 4]\n",
      "['56', '65', '43']\n"
     ]
    }
   ],
   "source": [
    "# For list of integers \n",
    "lst1 = [] \n",
    "\n",
    "# For list of strings/chars \n",
    "lst2 = [] \n",
    "\n",
    "lst1 = [int(item) for item in input(\"Enter the list items : \").split()] \n",
    "\n",
    "lst2 = [item for item in input(\"Enter the list items : \").split()] \n",
    "\n",
    "print(lst1) \n",
    "print(lst2) \n"
   ]
  },
  {
   "cell_type": "code",
   "execution_count": null,
   "metadata": {},
   "outputs": [],
   "source": [
    "h[0]"
   ]
  },
  {
   "cell_type": "code",
   "execution_count": null,
   "metadata": {},
   "outputs": [],
   "source": [
    "j"
   ]
  },
  {
   "cell_type": "code",
   "execution_count": 3,
   "metadata": {},
   "outputs": [],
   "source": [
    "class Stack:\n",
    "    \n",
    "    \n",
    "    def __init__(self):\n",
    "        self.items = []\n",
    "\n",
    "    def isEmpty(self):\n",
    "        return self.items == []\n",
    "\n",
    "    def push(self, item):\n",
    "        self.items.append(item)\n",
    "\n",
    "    def pop(self):\n",
    "        return self.items.pop()\n",
    "\n",
    "    def peek(self):\n",
    "        return self.items[len(self.items)-1]\n",
    "\n",
    "    def size(self):\n",
    "        return len(self.items)"
   ]
  },
  {
   "cell_type": "code",
   "execution_count": 10,
   "metadata": {},
   "outputs": [],
   "source": [
    "j='1 2 3 4 5 6'"
   ]
  },
  {
   "cell_type": "code",
   "execution_count": 15,
   "metadata": {},
   "outputs": [
    {
     "data": {
      "text/plain": [
       "[1, 2, 3, 4, 5, 6]"
      ]
     },
     "execution_count": 15,
     "metadata": {},
     "output_type": "execute_result"
    }
   ],
   "source": [
    "a=list(map(int,j.strip().split()))\n",
    "a"
   ]
  },
  {
   "cell_type": "code",
   "execution_count": null,
   "metadata": {},
   "outputs": [],
   "source": []
  }
 ],
 "metadata": {
  "kernelspec": {
   "display_name": "Python 3",
   "language": "python",
   "name": "python3"
  },
  "language_info": {
   "codemirror_mode": {
    "name": "ipython",
    "version": 3
   },
   "file_extension": ".py",
   "mimetype": "text/x-python",
   "name": "python",
   "nbconvert_exporter": "python",
   "pygments_lexer": "ipython3",
   "version": "3.7.4"
  }
 },
 "nbformat": 4,
 "nbformat_minor": 2
}
