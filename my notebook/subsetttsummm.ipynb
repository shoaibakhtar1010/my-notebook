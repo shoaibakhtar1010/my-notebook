{
 "cells": [
  {
   "cell_type": "code",
   "execution_count": 9,
   "metadata": {},
   "outputs": [
    {
     "name": "stdout",
     "output_type": "stream",
     "text": [
      "Enter the subset array: 1 4 5 8 9\n",
      "Enter sum value: 6\n",
      "True\n"
     ]
    }
   ],
   "source": [
    "def subsetsum(subset,summ,n):\n",
    "    table=[[False for x in range(0,summ+1)] for x in range(n+1)]\n",
    "    for i in range(0,n+1):\n",
    "        table[i][0]=True\n",
    "    for i in range(1,n+1):\n",
    "        for j in range(1,summ+1):\n",
    "            if subset[i-1]<=j:\n",
    "                table[i][j]=table[i-1][j-subset[i-1]] or table[i-1][j]\n",
    "            else:\n",
    "                table[i][j]=table[i-1][j]\n",
    "    return table[n][summ]\n",
    "\n",
    "\n",
    "if __name__=='__main__':\n",
    "    \n",
    "    subset=[int(x) for x in input('Enter the subset array: ').split() ]\n",
    "    summ=int(input('Enter sum value: '))\n",
    "    n=len(subset)\n",
    "    t=[[-1 for x in range(0,summ+1)] for x in range(0,n+1)]\n",
    "    print(subsetsum(subset,summ,n))\n",
    "    \n",
    "        \n",
    "\n"
   ]
  },
  {
   "cell_type": "code",
   "execution_count": 12,
   "metadata": {},
   "outputs": [
    {
     "name": "stdout",
     "output_type": "stream",
     "text": [
      "Enter the  array: 2 3 4 5\n",
      "True\n"
     ]
    }
   ],
   "source": [
    "def equipartition(arr):\n",
    "    k=sum(arr)\n",
    "    n=len(arr)\n",
    "    if k%2!=0:\n",
    "        return False\n",
    "    else:\n",
    "        return subsetsum(arr,k//2,n)\n",
    "    \n",
    "if __name__=='__main__':\n",
    "    \n",
    "    arr=[int(x) for x in input('Enter the  array: ').split() ]\n",
    "    print(equipartition(arr))\n",
    "    \n",
    "        \n",
    "\n",
    "\n",
    "\n",
    "\n",
    "\n",
    "\n",
    "\n",
    "def subsetsum(subset,summ,n):\n",
    "    table=[[False for x in range(0,summ+1)] for x in range(n+1)]\n",
    "    for i in range(0,n+1):\n",
    "        table[i][0]=True\n",
    "    for i in range(1,n+1):\n",
    "        for j in range(1,summ+1):\n",
    "            if subset[i-1]<=j:\n",
    "                table[i][j]=table[i-1][j-subset[i-1]] or table[i-1][j]\n",
    "            else:\n",
    "                table[i][j]=table[i-1][j]\n",
    "    return table[n][summ]\n",
    "\n",
    "\n"
   ]
  },
  {
   "cell_type": "code",
   "execution_count": 15,
   "metadata": {},
   "outputs": [
    {
     "name": "stdout",
     "output_type": "stream",
     "text": [
      "Enter the subset array: 1 2 3 4 5 6 7 8\n",
      "Enter sum value: 8\n",
      "6\n"
     ]
    }
   ],
   "source": [
    "def totalsubsetsum(subset,summ,n):\n",
    "    table=[[False for x in range(0,summ+1)] for x in range(n+1)]\n",
    "    for i in range(0,n+1):\n",
    "        table[i][0]=True\n",
    "    for i in range(1,n+1):\n",
    "        for j in range(1,summ+1):\n",
    "            if subset[i-1]<=j:\n",
    "                table[i][j]=table[i-1][j-subset[i-1]]+table[i-1][j]\n",
    "            else:\n",
    "                table[i][j]=table[i-1][j]\n",
    "    return table[n][summ]\n",
    "\n",
    "\n",
    "if __name__=='__main__':\n",
    "    \n",
    "    subset=[int(x) for x in input('Enter the subset array: ').split() ]\n",
    "    summ=int(input('Enter sum value: '))\n",
    "    n=len(subset)\n",
    "    print(totalsubsetsum(subset,summ,n))\n",
    "    \n",
    "        \n",
    "\n"
   ]
  },
  {
   "cell_type": "code",
   "execution_count": null,
   "metadata": {},
   "outputs": [],
   "source": []
  }
 ],
 "metadata": {
  "kernelspec": {
   "display_name": "Python 3",
   "language": "python",
   "name": "python3"
  },
  "language_info": {
   "codemirror_mode": {
    "name": "ipython",
    "version": 3
   },
   "file_extension": ".py",
   "mimetype": "text/x-python",
   "name": "python",
   "nbconvert_exporter": "python",
   "pygments_lexer": "ipython3",
   "version": "3.7.4"
  }
 },
 "nbformat": 4,
 "nbformat_minor": 2
}
