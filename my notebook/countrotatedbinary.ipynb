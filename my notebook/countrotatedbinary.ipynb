{
 "cells": [
  {
   "cell_type": "code",
   "execution_count": 10,
   "metadata": {},
   "outputs": [],
   "source": [
    "def count_rot(A):\n",
    "    N=len(A)\n",
    "    start=0\n",
    "    end=len(A)-1\n",
    "    k=0\n",
    "    \n",
    "   \n",
    "    while start<=end:\n",
    "        if A[start]<=A[end]:\n",
    "            return start\n",
    "        mid=start+(end-start)//2\n",
    "        nxt=(mid+1)%N\n",
    "        prv=(mid-1+N)%N\n",
    "        if A[mid]<=A[prv] and A[mid]<=A[nxt]:\n",
    "            k=mid\n",
    "            return k\n",
    "        elif A[start]<=A[mid]:\n",
    "            start=mid+1\n",
    "        elif A[mid]<=A[end]:\n",
    "            end=mid-1"
   ]
  },
  {
   "cell_type": "code",
   "execution_count": 12,
   "metadata": {},
   "outputs": [
    {
     "data": {
      "text/plain": [
       "6"
      ]
     },
     "execution_count": 12,
     "metadata": {},
     "output_type": "execute_result"
    }
   ],
   "source": [
    "count_rot([9,11,12,15,18,19,1,2,5,6,8])"
   ]
  },
  {
   "cell_type": "code",
   "execution_count": 53,
   "metadata": {},
   "outputs": [],
   "source": [
    "def elfinfrot(A,ele):\n",
    "    start=0\n",
    "    end=len(A)-1\n",
    "    midd=count_rot(A)\n",
    "    k=binary_search(A,ele,start,midd)\n",
    "    m=binary_search(A,ele,midd,end)\n",
    "    return max(k,m)\n",
    "        \n",
    "def count_rot(A):\n",
    "    N=len(A)\n",
    "    start=0\n",
    "    end=len(A)-1\n",
    "    k=0\n",
    "    \n",
    "   \n",
    "    while start<end:\n",
    "        if A[start]<=A[end]:\n",
    "            return start\n",
    "        mid=start+(end-start)//2\n",
    "        nxt=(mid+1)%N\n",
    "        prv=(mid-1+N)%N\n",
    "        if A[mid]<=A[prv] and A[mid]<=A[nxt]:\n",
    "            k=mid\n",
    "            return k\n",
    "        elif A[start]<=A[mid]:\n",
    "            start=mid+1\n",
    "        elif A[mid]<=A[end]:\n",
    "            end=mid-1\n",
    "def binary_search(A,ele,start,end):\n",
    "    \n",
    "    while start<=end:\n",
    "        mid=start+(end-start)//2\n",
    "        if A[mid]==ele:\n",
    "            return mid\n",
    "            break\n",
    "        elif A[mid]<ele:\n",
    "            start=mid+1\n",
    "        else:\n",
    "            end=mid-1\n",
    "    return -1"
   ]
  },
  {
   "cell_type": "code",
   "execution_count": null,
   "metadata": {},
   "outputs": [],
   "source": []
  },
  {
   "cell_type": "code",
   "execution_count": 54,
   "metadata": {},
   "outputs": [
    {
     "data": {
      "text/plain": [
       "3"
      ]
     },
     "execution_count": 54,
     "metadata": {},
     "output_type": "execute_result"
    }
   ],
   "source": [
    "elfinfrot([11,12,15,18,2,5,6,8],18)"
   ]
  },
  {
   "cell_type": "code",
   "execution_count": null,
   "metadata": {},
   "outputs": [],
   "source": []
  }
 ],
 "metadata": {
  "kernelspec": {
   "display_name": "Python 3",
   "language": "python",
   "name": "python3"
  },
  "language_info": {
   "codemirror_mode": {
    "name": "ipython",
    "version": 3
   },
   "file_extension": ".py",
   "mimetype": "text/x-python",
   "name": "python",
   "nbconvert_exporter": "python",
   "pygments_lexer": "ipython3",
   "version": "3.7.4"
  }
 },
 "nbformat": 4,
 "nbformat_minor": 2
}
