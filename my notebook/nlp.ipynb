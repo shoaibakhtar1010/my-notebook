{
 "cells": [
  {
   "cell_type": "code",
   "execution_count": 3,
   "metadata": {},
   "outputs": [],
   "source": [
    "import nltk"
   ]
  },
  {
   "cell_type": "code",
   "execution_count": null,
   "metadata": {},
   "outputs": [
    {
     "name": "stdout",
     "output_type": "stream",
     "text": [
      "showing info https://raw.githubusercontent.com/nltk/nltk_data/gh-pages/index.xml\n"
     ]
    }
   ],
   "source": [
    "nltk.download()"
   ]
  },
  {
   "cell_type": "code",
   "execution_count": 4,
   "metadata": {},
   "outputs": [
    {
     "data": {
      "text/plain": [
       "'C:\\\\Users\\\\shoaibakhtar'"
      ]
     },
     "execution_count": 4,
     "metadata": {},
     "output_type": "execute_result"
    }
   ],
   "source": [
    "pwd\n"
   ]
  },
  {
   "cell_type": "code",
   "execution_count": 4,
   "metadata": {},
   "outputs": [
    {
     "name": "stdout",
     "output_type": "stream",
     "text": [
      "Enter some Text  :  Before you can begin to determine what the composition of a particular paragraph will be, you must first decide on an argument and a working thesis statement for your paper. What is the most important idea that you are trying to convey to your reader? The information in each paragraph must be related to that idea. In other words, your paragraphs should remind your reader that there is a recurrent relationship between your thesis and the information in each paragraph. A working thesis functions like a seed from which your paper, and your ideas, will grow. The whole process is an organic one—a natural progression from a seed to a full-blown paper where there are direct, familial relationships between all of the ideas in the paper.\n"
     ]
    }
   ],
   "source": [
    "user_text=input('Enter some Text  :  ')"
   ]
  },
  {
   "cell_type": "code",
   "execution_count": 5,
   "metadata": {},
   "outputs": [
    {
     "data": {
      "text/plain": [
       "'Before you can begin to determine what the composition of a particular paragraph will be, you must first decide on an argument and a working thesis statement for your paper. What is the most important idea that you are trying to convey to your reader? The information in each paragraph must be related to that idea. In other words, your paragraphs should remind your reader that there is a recurrent relationship between your thesis and the information in each paragraph. A working thesis functions like a seed from which your paper, and your ideas, will grow. The whole process is an organic one—a natural progression from a seed to a full-blown paper where there are direct, familial relationships between all of the ideas in the paper.'"
      ]
     },
     "execution_count": 5,
     "metadata": {},
     "output_type": "execute_result"
    }
   ],
   "source": [
    "user_text"
   ]
  },
  {
   "cell_type": "code",
   "execution_count": 6,
   "metadata": {},
   "outputs": [],
   "source": [
    "from nltk.tokenize import sent_tokenize"
   ]
  },
  {
   "cell_type": "code",
   "execution_count": 7,
   "metadata": {},
   "outputs": [],
   "source": [
    "tokenized_sentence=sent_tokenize(user_text)"
   ]
  },
  {
   "cell_type": "code",
   "execution_count": 8,
   "metadata": {},
   "outputs": [
    {
     "data": {
      "text/plain": [
       "list"
      ]
     },
     "execution_count": 8,
     "metadata": {},
     "output_type": "execute_result"
    }
   ],
   "source": [
    "type(tokenized_sentence)"
   ]
  },
  {
   "cell_type": "code",
   "execution_count": 9,
   "metadata": {},
   "outputs": [
    {
     "data": {
      "text/plain": [
       "6"
      ]
     },
     "execution_count": 9,
     "metadata": {},
     "output_type": "execute_result"
    }
   ],
   "source": [
    "len(tokenized_sentence)"
   ]
  },
  {
   "cell_type": "code",
   "execution_count": 10,
   "metadata": {},
   "outputs": [],
   "source": [
    "from nltk.tokenize import word_tokenize"
   ]
  },
  {
   "cell_type": "code",
   "execution_count": 11,
   "metadata": {},
   "outputs": [],
   "source": [
    "tokenized_words=list(word_tokenize(user_text))"
   ]
  },
  {
   "cell_type": "code",
   "execution_count": 12,
   "metadata": {},
   "outputs": [
    {
     "data": {
      "text/plain": [
       "137"
      ]
     },
     "execution_count": 12,
     "metadata": {},
     "output_type": "execute_result"
    }
   ],
   "source": [
    "len(tokenized_words)"
   ]
  },
  {
   "cell_type": "code",
   "execution_count": 13,
   "metadata": {},
   "outputs": [],
   "source": [
    "from nltk.corpus import stopwords"
   ]
  },
  {
   "cell_type": "code",
   "execution_count": 14,
   "metadata": {},
   "outputs": [],
   "source": [
    "stopward_list=stopwords.words('english')"
   ]
  },
  {
   "cell_type": "code",
   "execution_count": 15,
   "metadata": {},
   "outputs": [
    {
     "data": {
      "text/plain": [
       "179"
      ]
     },
     "execution_count": 15,
     "metadata": {},
     "output_type": "execute_result"
    }
   ],
   "source": [
    "len(stopward_list)"
   ]
  },
  {
   "cell_type": "code",
   "execution_count": 16,
   "metadata": {},
   "outputs": [],
   "source": [
    "clean_text=''\n",
    "for word in tokenized_words:\n",
    "    if word not in stopward_list:\n",
    "        clean_text+=word+' '"
   ]
  },
  {
   "cell_type": "code",
   "execution_count": 17,
   "metadata": {},
   "outputs": [
    {
     "data": {
      "text/plain": [
       "'Before begin determine composition particular paragraph , must first decide argument working thesis statement paper . What important idea trying convey reader ? The information paragraph must related idea . In words , paragraphs remind reader recurrent relationship thesis information paragraph . A working thesis functions like seed paper , ideas , grow . The whole process organic one—a natural progression seed full-blown paper direct , familial relationships ideas paper . '"
      ]
     },
     "execution_count": 17,
     "metadata": {},
     "output_type": "execute_result"
    }
   ],
   "source": [
    "clean_text"
   ]
  },
  {
   "cell_type": "code",
   "execution_count": 18,
   "metadata": {},
   "outputs": [
    {
     "data": {
      "text/plain": [
       "['Before',\n",
       " 'you',\n",
       " 'can',\n",
       " 'begin',\n",
       " 'to',\n",
       " 'determine',\n",
       " 'what',\n",
       " 'the',\n",
       " 'composition',\n",
       " 'of',\n",
       " 'a',\n",
       " 'particular',\n",
       " 'paragraph',\n",
       " 'will',\n",
       " 'be',\n",
       " ',',\n",
       " 'you',\n",
       " 'must',\n",
       " 'first',\n",
       " 'decide',\n",
       " 'on',\n",
       " 'an',\n",
       " 'argument',\n",
       " 'and',\n",
       " 'a',\n",
       " 'working',\n",
       " 'thesis',\n",
       " 'statement',\n",
       " 'for',\n",
       " 'your',\n",
       " 'paper',\n",
       " '.',\n",
       " 'What',\n",
       " 'is',\n",
       " 'the',\n",
       " 'most',\n",
       " 'important',\n",
       " 'idea',\n",
       " 'that',\n",
       " 'you',\n",
       " 'are',\n",
       " 'trying',\n",
       " 'to',\n",
       " 'convey',\n",
       " 'to',\n",
       " 'your',\n",
       " 'reader',\n",
       " '?',\n",
       " 'The',\n",
       " 'information',\n",
       " 'in',\n",
       " 'each',\n",
       " 'paragraph',\n",
       " 'must',\n",
       " 'be',\n",
       " 'related',\n",
       " 'to',\n",
       " 'that',\n",
       " 'idea',\n",
       " '.',\n",
       " 'In',\n",
       " 'other',\n",
       " 'words',\n",
       " ',',\n",
       " 'your',\n",
       " 'paragraphs',\n",
       " 'should',\n",
       " 'remind',\n",
       " 'your',\n",
       " 'reader',\n",
       " 'that',\n",
       " 'there',\n",
       " 'is',\n",
       " 'a',\n",
       " 'recurrent',\n",
       " 'relationship',\n",
       " 'between',\n",
       " 'your',\n",
       " 'thesis',\n",
       " 'and',\n",
       " 'the',\n",
       " 'information',\n",
       " 'in',\n",
       " 'each',\n",
       " 'paragraph',\n",
       " '.',\n",
       " 'A',\n",
       " 'working',\n",
       " 'thesis',\n",
       " 'functions',\n",
       " 'like',\n",
       " 'a',\n",
       " 'seed',\n",
       " 'from',\n",
       " 'which',\n",
       " 'your',\n",
       " 'paper',\n",
       " ',',\n",
       " 'and',\n",
       " 'your',\n",
       " 'ideas',\n",
       " ',',\n",
       " 'will',\n",
       " 'grow',\n",
       " '.',\n",
       " 'The',\n",
       " 'whole',\n",
       " 'process',\n",
       " 'is',\n",
       " 'an',\n",
       " 'organic',\n",
       " 'one—a',\n",
       " 'natural',\n",
       " 'progression',\n",
       " 'from',\n",
       " 'a',\n",
       " 'seed',\n",
       " 'to',\n",
       " 'a',\n",
       " 'full-blown',\n",
       " 'paper',\n",
       " 'where',\n",
       " 'there',\n",
       " 'are',\n",
       " 'direct',\n",
       " ',',\n",
       " 'familial',\n",
       " 'relationships',\n",
       " 'between',\n",
       " 'all',\n",
       " 'of',\n",
       " 'the',\n",
       " 'ideas',\n",
       " 'in',\n",
       " 'the',\n",
       " 'paper',\n",
       " '.']"
      ]
     },
     "execution_count": 18,
     "metadata": {},
     "output_type": "execute_result"
    }
   ],
   "source": [
    "tokenized_words"
   ]
  },
  {
   "cell_type": "code",
   "execution_count": 19,
   "metadata": {},
   "outputs": [],
   "source": [
    "from nltk.stem import PorterStemmer"
   ]
  },
  {
   "cell_type": "code",
   "execution_count": 20,
   "metadata": {},
   "outputs": [],
   "source": [
    "ps=PorterStemmer()"
   ]
  },
  {
   "cell_type": "code",
   "execution_count": 21,
   "metadata": {},
   "outputs": [
    {
     "data": {
      "text/plain": [
       "'fli'"
      ]
     },
     "execution_count": 21,
     "metadata": {},
     "output_type": "execute_result"
    }
   ],
   "source": [
    "ps.stem('Flying')"
   ]
  },
  {
   "cell_type": "code",
   "execution_count": 22,
   "metadata": {},
   "outputs": [
    {
     "data": {
      "text/plain": [
       "'studi'"
      ]
     },
     "execution_count": 22,
     "metadata": {},
     "output_type": "execute_result"
    }
   ],
   "source": [
    "ps.stem('Studying')"
   ]
  },
  {
   "cell_type": "code",
   "execution_count": 39,
   "metadata": {},
   "outputs": [
    {
     "data": {
      "text/plain": [
       "'relationship'"
      ]
     },
     "execution_count": 39,
     "metadata": {},
     "output_type": "execute_result"
    }
   ],
   "source": [
    "ps.stem('relationship')"
   ]
  },
  {
   "cell_type": "code",
   "execution_count": 40,
   "metadata": {},
   "outputs": [
    {
     "data": {
      "text/plain": [
       "'intellig'"
      ]
     },
     "execution_count": 40,
     "metadata": {},
     "output_type": "execute_result"
    }
   ],
   "source": [
    "ps.stem('intelligent')"
   ]
  },
  {
   "cell_type": "code",
   "execution_count": 41,
   "metadata": {},
   "outputs": [
    {
     "name": "stdout",
     "output_type": "stream",
     "text": [
      "Before -> befor\n",
      "you -> you\n",
      "can -> can\n",
      "begin -> begin\n",
      "to -> to\n",
      "determine -> determin\n",
      "what -> what\n",
      "the -> the\n",
      "composition -> composit\n",
      "of -> of\n",
      "a -> a\n",
      "particular -> particular\n",
      "paragraph -> paragraph\n",
      "will -> will\n",
      "be -> be\n",
      ", -> ,\n",
      "you -> you\n",
      "must -> must\n",
      "first -> first\n",
      "decide -> decid\n",
      "on -> on\n",
      "an -> an\n",
      "argument -> argument\n",
      "and -> and\n",
      "a -> a\n",
      "working -> work\n",
      "thesis -> thesi\n",
      "statement -> statement\n",
      "for -> for\n",
      "your -> your\n",
      "paper -> paper\n",
      ". -> .\n",
      "What -> what\n",
      "is -> is\n",
      "the -> the\n",
      "most -> most\n",
      "important -> import\n",
      "idea -> idea\n",
      "that -> that\n",
      "you -> you\n",
      "are -> are\n",
      "trying -> tri\n",
      "to -> to\n",
      "convey -> convey\n",
      "to -> to\n",
      "your -> your\n",
      "reader -> reader\n",
      "? -> ?\n",
      "The -> the\n",
      "information -> inform\n",
      "in -> in\n",
      "each -> each\n",
      "paragraph -> paragraph\n",
      "must -> must\n",
      "be -> be\n",
      "related -> relat\n",
      "to -> to\n",
      "that -> that\n",
      "idea -> idea\n",
      ". -> .\n",
      "In -> In\n",
      "other -> other\n",
      "words -> word\n",
      ", -> ,\n",
      "your -> your\n",
      "paragraphs -> paragraph\n",
      "should -> should\n",
      "remind -> remind\n",
      "your -> your\n",
      "reader -> reader\n",
      "that -> that\n",
      "there -> there\n",
      "is -> is\n",
      "a -> a\n",
      "recurrent -> recurr\n",
      "relationship -> relationship\n",
      "between -> between\n",
      "your -> your\n",
      "thesis -> thesi\n",
      "and -> and\n",
      "the -> the\n",
      "information -> inform\n",
      "in -> in\n",
      "each -> each\n",
      "paragraph -> paragraph\n",
      ". -> .\n",
      "A -> A\n",
      "working -> work\n",
      "thesis -> thesi\n",
      "functions -> function\n",
      "like -> like\n",
      "a -> a\n",
      "seed -> seed\n",
      "from -> from\n",
      "which -> which\n",
      "your -> your\n",
      "paper -> paper\n",
      ", -> ,\n",
      "and -> and\n",
      "your -> your\n",
      "ideas -> idea\n",
      ", -> ,\n",
      "will -> will\n",
      "grow -> grow\n",
      ". -> .\n",
      "The -> the\n",
      "whole -> whole\n",
      "process -> process\n",
      "is -> is\n",
      "an -> an\n",
      "organic -> organ\n",
      "one—a -> one—a\n",
      "natural -> natur\n",
      "progression -> progress\n",
      "from -> from\n",
      "a -> a\n",
      "seed -> seed\n",
      "to -> to\n",
      "a -> a\n",
      "full-blown -> full-blown\n",
      "paper -> paper\n",
      "where -> where\n",
      "there -> there\n",
      "are -> are\n",
      "direct -> direct\n",
      ", -> ,\n",
      "familial -> famili\n",
      "relationships -> relationship\n",
      "between -> between\n",
      "all -> all\n",
      "of -> of\n",
      "the -> the\n",
      "ideas -> idea\n",
      "in -> in\n",
      "the -> the\n",
      "paper -> paper\n",
      ". -> .\n"
     ]
    }
   ],
   "source": [
    "for word in tokenized_words:\n",
    "    print(word,'->',ps.stem(word))"
   ]
  },
  {
   "cell_type": "code",
   "execution_count": 42,
   "metadata": {},
   "outputs": [],
   "source": [
    "from nltk.stem import WordNetLemmatizer"
   ]
  },
  {
   "cell_type": "code",
   "execution_count": 44,
   "metadata": {},
   "outputs": [],
   "source": [
    "lm=WordNetLemmatizer()"
   ]
  },
  {
   "cell_type": "code",
   "execution_count": 45,
   "metadata": {},
   "outputs": [
    {
     "data": {
      "text/plain": [
       "'enchanted'"
      ]
     },
     "execution_count": 45,
     "metadata": {},
     "output_type": "execute_result"
    }
   ],
   "source": [
    "lm.lemmatize('enchanted')"
   ]
  },
  {
   "cell_type": "code",
   "execution_count": 46,
   "metadata": {},
   "outputs": [
    {
     "data": {
      "text/plain": [
       "'sematozing'"
      ]
     },
     "execution_count": 46,
     "metadata": {},
     "output_type": "execute_result"
    }
   ],
   "source": [
    "lm.lemmatize('sematozing')"
   ]
  },
  {
   "cell_type": "code",
   "execution_count": 47,
   "metadata": {},
   "outputs": [
    {
     "name": "stdout",
     "output_type": "stream",
     "text": [
      "Before -> Before\n",
      "you -> you\n",
      "can -> can\n",
      "begin -> begin\n",
      "to -> to\n",
      "determine -> determine\n",
      "what -> what\n",
      "the -> the\n",
      "composition -> composition\n",
      "of -> of\n",
      "a -> a\n",
      "particular -> particular\n",
      "paragraph -> paragraph\n",
      "will -> will\n",
      "be -> be\n",
      ", -> ,\n",
      "you -> you\n",
      "must -> must\n",
      "first -> first\n",
      "decide -> decide\n",
      "on -> on\n",
      "an -> an\n",
      "argument -> argument\n",
      "and -> and\n",
      "a -> a\n",
      "working -> working\n",
      "thesis -> thesis\n",
      "statement -> statement\n",
      "for -> for\n",
      "your -> your\n",
      "paper -> paper\n",
      ". -> .\n",
      "What -> What\n",
      "is -> is\n",
      "the -> the\n",
      "most -> most\n",
      "important -> important\n",
      "idea -> idea\n",
      "that -> that\n",
      "you -> you\n",
      "are -> are\n",
      "trying -> trying\n",
      "to -> to\n",
      "convey -> convey\n",
      "to -> to\n",
      "your -> your\n",
      "reader -> reader\n",
      "? -> ?\n",
      "The -> The\n",
      "information -> information\n",
      "in -> in\n",
      "each -> each\n",
      "paragraph -> paragraph\n",
      "must -> must\n",
      "be -> be\n",
      "related -> related\n",
      "to -> to\n",
      "that -> that\n",
      "idea -> idea\n",
      ". -> .\n",
      "In -> In\n",
      "other -> other\n",
      "words -> word\n",
      ", -> ,\n",
      "your -> your\n",
      "paragraphs -> paragraph\n",
      "should -> should\n",
      "remind -> remind\n",
      "your -> your\n",
      "reader -> reader\n",
      "that -> that\n",
      "there -> there\n",
      "is -> is\n",
      "a -> a\n",
      "recurrent -> recurrent\n",
      "relationship -> relationship\n",
      "between -> between\n",
      "your -> your\n",
      "thesis -> thesis\n",
      "and -> and\n",
      "the -> the\n",
      "information -> information\n",
      "in -> in\n",
      "each -> each\n",
      "paragraph -> paragraph\n",
      ". -> .\n",
      "A -> A\n",
      "working -> working\n",
      "thesis -> thesis\n",
      "functions -> function\n",
      "like -> like\n",
      "a -> a\n",
      "seed -> seed\n",
      "from -> from\n",
      "which -> which\n",
      "your -> your\n",
      "paper -> paper\n",
      ", -> ,\n",
      "and -> and\n",
      "your -> your\n",
      "ideas -> idea\n",
      ", -> ,\n",
      "will -> will\n",
      "grow -> grow\n",
      ". -> .\n",
      "The -> The\n",
      "whole -> whole\n",
      "process -> process\n",
      "is -> is\n",
      "an -> an\n",
      "organic -> organic\n",
      "one—a -> one—a\n",
      "natural -> natural\n",
      "progression -> progression\n",
      "from -> from\n",
      "a -> a\n",
      "seed -> seed\n",
      "to -> to\n",
      "a -> a\n",
      "full-blown -> full-blown\n",
      "paper -> paper\n",
      "where -> where\n",
      "there -> there\n",
      "are -> are\n",
      "direct -> direct\n",
      ", -> ,\n",
      "familial -> familial\n",
      "relationships -> relationship\n",
      "between -> between\n",
      "all -> all\n",
      "of -> of\n",
      "the -> the\n",
      "ideas -> idea\n",
      "in -> in\n",
      "the -> the\n",
      "paper -> paper\n",
      ". -> .\n"
     ]
    }
   ],
   "source": [
    "for word in tokenized_words:\n",
    "    print(word,'->',lm.lemmatize(word))"
   ]
  },
  {
   "cell_type": "code",
   "execution_count": 23,
   "metadata": {},
   "outputs": [],
   "source": [
    "from nltk import pos_tag"
   ]
  },
  {
   "cell_type": "code",
   "execution_count": 24,
   "metadata": {},
   "outputs": [
    {
     "data": {
      "text/plain": [
       "[('Before', 'IN'),\n",
       " ('you', 'PRP'),\n",
       " ('can', 'MD'),\n",
       " ('begin', 'VB'),\n",
       " ('to', 'TO'),\n",
       " ('determine', 'VB'),\n",
       " ('what', 'WP'),\n",
       " ('the', 'DT'),\n",
       " ('composition', 'NN'),\n",
       " ('of', 'IN'),\n",
       " ('a', 'DT'),\n",
       " ('particular', 'JJ'),\n",
       " ('paragraph', 'NN'),\n",
       " ('will', 'MD'),\n",
       " ('be', 'VB'),\n",
       " (',', ','),\n",
       " ('you', 'PRP'),\n",
       " ('must', 'MD'),\n",
       " ('first', 'VB'),\n",
       " ('decide', 'VB'),\n",
       " ('on', 'IN'),\n",
       " ('an', 'DT'),\n",
       " ('argument', 'NN'),\n",
       " ('and', 'CC'),\n",
       " ('a', 'DT'),\n",
       " ('working', 'JJ'),\n",
       " ('thesis', 'NN'),\n",
       " ('statement', 'NN'),\n",
       " ('for', 'IN'),\n",
       " ('your', 'PRP$'),\n",
       " ('paper', 'NN'),\n",
       " ('.', '.'),\n",
       " ('What', 'WP'),\n",
       " ('is', 'VBZ'),\n",
       " ('the', 'DT'),\n",
       " ('most', 'RBS'),\n",
       " ('important', 'JJ'),\n",
       " ('idea', 'NN'),\n",
       " ('that', 'IN'),\n",
       " ('you', 'PRP'),\n",
       " ('are', 'VBP'),\n",
       " ('trying', 'VBG'),\n",
       " ('to', 'TO'),\n",
       " ('convey', 'VB'),\n",
       " ('to', 'TO'),\n",
       " ('your', 'PRP$'),\n",
       " ('reader', 'NN'),\n",
       " ('?', '.'),\n",
       " ('The', 'DT'),\n",
       " ('information', 'NN'),\n",
       " ('in', 'IN'),\n",
       " ('each', 'DT'),\n",
       " ('paragraph', 'NN'),\n",
       " ('must', 'MD'),\n",
       " ('be', 'VB'),\n",
       " ('related', 'VBN'),\n",
       " ('to', 'TO'),\n",
       " ('that', 'DT'),\n",
       " ('idea', 'NN'),\n",
       " ('.', '.'),\n",
       " ('In', 'IN'),\n",
       " ('other', 'JJ'),\n",
       " ('words', 'NNS'),\n",
       " (',', ','),\n",
       " ('your', 'PRP$'),\n",
       " ('paragraphs', 'NN'),\n",
       " ('should', 'MD'),\n",
       " ('remind', 'VB'),\n",
       " ('your', 'PRP$'),\n",
       " ('reader', 'NN'),\n",
       " ('that', 'IN'),\n",
       " ('there', 'EX'),\n",
       " ('is', 'VBZ'),\n",
       " ('a', 'DT'),\n",
       " ('recurrent', 'NN'),\n",
       " ('relationship', 'NN'),\n",
       " ('between', 'IN'),\n",
       " ('your', 'PRP$'),\n",
       " ('thesis', 'NN'),\n",
       " ('and', 'CC'),\n",
       " ('the', 'DT'),\n",
       " ('information', 'NN'),\n",
       " ('in', 'IN'),\n",
       " ('each', 'DT'),\n",
       " ('paragraph', 'NN'),\n",
       " ('.', '.'),\n",
       " ('A', 'DT'),\n",
       " ('working', 'JJ'),\n",
       " ('thesis', 'NN'),\n",
       " ('functions', 'NNS'),\n",
       " ('like', 'IN'),\n",
       " ('a', 'DT'),\n",
       " ('seed', 'NN'),\n",
       " ('from', 'IN'),\n",
       " ('which', 'WDT'),\n",
       " ('your', 'PRP$'),\n",
       " ('paper', 'NN'),\n",
       " (',', ','),\n",
       " ('and', 'CC'),\n",
       " ('your', 'PRP$'),\n",
       " ('ideas', 'NNS'),\n",
       " (',', ','),\n",
       " ('will', 'MD'),\n",
       " ('grow', 'VB'),\n",
       " ('.', '.'),\n",
       " ('The', 'DT'),\n",
       " ('whole', 'JJ'),\n",
       " ('process', 'NN'),\n",
       " ('is', 'VBZ'),\n",
       " ('an', 'DT'),\n",
       " ('organic', 'JJ'),\n",
       " ('one—a', 'NN'),\n",
       " ('natural', 'JJ'),\n",
       " ('progression', 'NN'),\n",
       " ('from', 'IN'),\n",
       " ('a', 'DT'),\n",
       " ('seed', 'NN'),\n",
       " ('to', 'TO'),\n",
       " ('a', 'DT'),\n",
       " ('full-blown', 'JJ'),\n",
       " ('paper', 'NN'),\n",
       " ('where', 'WRB'),\n",
       " ('there', 'EX'),\n",
       " ('are', 'VBP'),\n",
       " ('direct', 'JJ'),\n",
       " (',', ','),\n",
       " ('familial', 'JJ'),\n",
       " ('relationships', 'NNS'),\n",
       " ('between', 'IN'),\n",
       " ('all', 'DT'),\n",
       " ('of', 'IN'),\n",
       " ('the', 'DT'),\n",
       " ('ideas', 'NNS'),\n",
       " ('in', 'IN'),\n",
       " ('the', 'DT'),\n",
       " ('paper', 'NN'),\n",
       " ('.', '.')]"
      ]
     },
     "execution_count": 24,
     "metadata": {},
     "output_type": "execute_result"
    }
   ],
   "source": [
    "pos_tag(tokenized_words)"
   ]
  },
  {
   "cell_type": "code",
   "execution_count": null,
   "metadata": {},
   "outputs": [],
   "source": []
  }
 ],
 "metadata": {
  "kernelspec": {
   "display_name": "Python 3",
   "language": "python",
   "name": "python3"
  },
  "language_info": {
   "codemirror_mode": {
    "name": "ipython",
    "version": 3
   },
   "file_extension": ".py",
   "mimetype": "text/x-python",
   "name": "python",
   "nbconvert_exporter": "python",
   "pygments_lexer": "ipython3",
   "version": "3.7.4"
  }
 },
 "nbformat": 4,
 "nbformat_minor": 2
}
