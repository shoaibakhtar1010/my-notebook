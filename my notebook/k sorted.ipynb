{
 "cells": [
  {
   "cell_type": "code",
   "execution_count": 3,
   "metadata": {},
   "outputs": [],
   "source": [
    "def k_sorted(A,k):\n",
    "    l=len(A)\n",
    "    from heapq import heappush,heappop,heapify\n",
    "    lis=A[:k+1]\n",
    "    #heapify(lis)\n",
    "    sorte=[]\n",
    "    for i in range(k+1,l):\n",
    "        sorte.append(heappop(lis))\n",
    "        heappush(lis,A[i])\n",
    "    while(len(lis)>0):\n",
    "        sorte.append(heappop(lis))\n",
    "    return sorte"
   ]
  },
  {
   "cell_type": "code",
   "execution_count": 4,
   "metadata": {},
   "outputs": [
    {
     "data": {
      "text/plain": [
       "[2, 3, 6, 8, 12, 56]"
      ]
     },
     "execution_count": 4,
     "metadata": {},
     "output_type": "execute_result"
    }
   ],
   "source": [
    "k_sorted([2, 6, 3, 12, 56, 8] ,3)"
   ]
  },
  {
   "cell_type": "code",
   "execution_count": null,
   "metadata": {},
   "outputs": [],
   "source": [
    "def k_closest(A,x,k):\n",
    "    if len(A)<k:\n",
    "        return -1"
   ]
  }
 ],
 "metadata": {
  "kernelspec": {
   "display_name": "Python 3",
   "language": "python",
   "name": "python3"
  },
  "language_info": {
   "codemirror_mode": {
    "name": "ipython",
    "version": 3
   },
   "file_extension": ".py",
   "mimetype": "text/x-python",
   "name": "python",
   "nbconvert_exporter": "python",
   "pygments_lexer": "ipython3",
   "version": "3.7.4"
  }
 },
 "nbformat": 4,
 "nbformat_minor": 2
}
