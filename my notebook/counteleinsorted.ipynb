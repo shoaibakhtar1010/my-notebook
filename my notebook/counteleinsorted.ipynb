{
 "cells": [
  {
   "cell_type": "code",
   "execution_count": 1,
   "metadata": {},
   "outputs": [],
   "source": [
    "def count_ele(A,ele):\n",
    "    first=fis_occurence(A,ele)\n",
    "    last=las_occurence(A,ele)\n",
    "    return last-first+1\n",
    "def fis_occurence(A,ele):\n",
    "    start=0\n",
    "    end=len(A)-1\n",
    "    #asc\n",
    "    while(start<=end):\n",
    "        mid=start+(end-start)//2\n",
    "        if A[mid]==ele:\n",
    "            result=mid\n",
    "            end=mid-1\n",
    "        elif A[mid]<ele:\n",
    "            start=mid+1\n",
    "        else:\n",
    "            end=mid-1\n",
    "    return result\n",
    "def las_occurence(A,ele):\n",
    "    start=0\n",
    "    end=len(A)-1\n",
    "    #asc\n",
    "    while(start<=end):\n",
    "        mid=start+(end-start)//2\n",
    "        if A[mid]==ele:\n",
    "            result=mid\n",
    "            start=mid+1\n",
    "        \n",
    "        elif A[mid]<ele:\n",
    "            start=mid+1\n",
    "        else:\n",
    "            end=mid-1\n",
    "    return result"
   ]
  },
  {
   "cell_type": "code",
   "execution_count": 3,
   "metadata": {},
   "outputs": [
    {
     "data": {
      "text/plain": [
       "4"
      ]
     },
     "execution_count": 3,
     "metadata": {},
     "output_type": "execute_result"
    }
   ],
   "source": [
    "count_ele([2,4,10,10,10,10,18,20],10)"
   ]
  },
  {
   "cell_type": "code",
   "execution_count": null,
   "metadata": {},
   "outputs": [],
   "source": []
  }
 ],
 "metadata": {
  "kernelspec": {
   "display_name": "Python 3",
   "language": "python",
   "name": "python3"
  },
  "language_info": {
   "codemirror_mode": {
    "name": "ipython",
    "version": 3
   },
   "file_extension": ".py",
   "mimetype": "text/x-python",
   "name": "python",
   "nbconvert_exporter": "python",
   "pygments_lexer": "ipython3",
   "version": "3.7.4"
  }
 },
 "nbformat": 4,
 "nbformat_minor": 2
}
