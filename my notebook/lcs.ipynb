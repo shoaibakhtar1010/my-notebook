{
 "cells": [
  {
   "cell_type": "code",
   "execution_count": 87,
   "metadata": {},
   "outputs": [],
   "source": [
    "def lcs(s1,s2):\n",
    "    k=list(s1)\n",
    "    s=''\n",
    "    while len(s2)>0:\n",
    "        m=s2[-1]\n",
    "        if m in k:\n",
    "             s=s+m\n",
    "        s2=s2[:len(s2)-1]\n",
    "           \n",
    "    return ''.join(sorted((set(s))))\n",
    "            "
   ]
  },
  {
   "cell_type": "code",
   "execution_count": 88,
   "metadata": {},
   "outputs": [
    {
     "data": {
      "text/plain": [
       "'abcdsw'"
      ]
     },
     "execution_count": 88,
     "metadata": {},
     "output_type": "execute_result"
    }
   ],
   "source": [
    "lcs('abcsswsdas','abadwecs')"
   ]
  },
  {
   "cell_type": "code",
   "execution_count": 1,
   "metadata": {},
   "outputs": [],
   "source": [
    "def longestcommon_substring(s1,s2,m,n):\n",
    "    table=[[-1 for i in range(0,n+1)] for i in range(0,m+1)]\n",
    "    for i in range(0,m):\n",
    "        table[i][0]=0\n",
    "    for j in range(1,n+1):\n",
    "        table[0][j]=0\n",
    "    for i in range(1,m+1):\n",
    "        for j in range(1,n+1):\n",
    "            if s1[i-1]==s2[j-1]:\n",
    "                table[i][j]=1+table[i-1][j-1]\n",
    "            else:\n",
    "                table[i][j]=0\n",
    "    return table[m][n]\n",
    "                \n",
    "        "
   ]
  },
  {
   "cell_type": "code",
   "execution_count": 2,
   "metadata": {},
   "outputs": [
    {
     "data": {
      "text/plain": [
       "0"
      ]
     },
     "execution_count": 2,
     "metadata": {},
     "output_type": "execute_result"
    }
   ],
   "source": [
    "X = \"abcdxyz\"\n",
    "Y = \"xyzabcd\"\n",
    "m=len(X)\n",
    "n=len(Y)\n",
    "longestcommon_substring(X,Y,m,n)"
   ]
  },
  {
   "cell_type": "code",
   "execution_count": 1,
   "metadata": {},
   "outputs": [
    {
     "name": "stdout",
     "output_type": "stream",
     "text": [
      "Enter 1st String:  abcde\n",
      "Enter 2nd String:  abfce\n",
      "2\n"
     ]
    }
   ],
   "source": [
    "def LCS(X,Y,m,n):\n",
    "    val=-1\n",
    "    table=[[-1 for x in range(0,m+1)] for x in range(0,n+1)]\n",
    "    for i in range(0,m+1):\n",
    "        table[0][i]=0\n",
    "    for k in range(1,n+1):\n",
    "        table[k][0]=0\n",
    "    for i in range(1,n+1):\n",
    "        for j in range(1,m+1):\n",
    "            if X[j-1]==Y[i-1]:\n",
    "                table[i][j]=1+table[i-1][j-1]\n",
    "            else:\n",
    "                table[i][j]=0\n",
    "    for i in range(0,n+1):\n",
    "        for j in range(0,m+1):\n",
    "            if table[i][j]>val:\n",
    "                val=table[i][j]\n",
    "    return val\n",
    "if __name__=='__main__':\n",
    "    X =input('Enter 1st String:  ') \n",
    "    Y =input('Enter 2nd String:  ')\n",
    "    m=len(X)\n",
    "    n=len(Y)\n",
    "    print(LCS(X,Y,m,n))"
   ]
  },
  {
   "cell_type": "code",
   "execution_count": 123,
   "metadata": {},
   "outputs": [
    {
     "data": {
      "text/plain": [
       "4"
      ]
     },
     "execution_count": 123,
     "metadata": {},
     "output_type": "execute_result"
    }
   ],
   "source": []
  },
  {
   "cell_type": "code",
   "execution_count": 111,
   "metadata": {},
   "outputs": [
    {
     "data": {
      "text/plain": [
       "[[-1, -1, -1],\n",
       " [-1, -1, -1],\n",
       " [-1, -1, -1],\n",
       " [-1, -1, -1],\n",
       " [-1, -1, -1],\n",
       " [-1, -1, -1],\n",
       " [-1, -1, -1],\n",
       " [-1, -1, -1]]"
      ]
     },
     "execution_count": 111,
     "metadata": {},
     "output_type": "execute_result"
    }
   ],
   "source": [
    "t=[[-1 for x in range(0,3)] for x in range(0,8)]\n",
    "t"
   ]
  },
  {
   "cell_type": "code",
   "execution_count": 9,
   "metadata": {},
   "outputs": [
    {
     "name": "stdout",
     "output_type": "stream",
     "text": [
      "$$$$$$    This is program to print LCS $$$$$$\n",
      "Enter X string:  abcdaf\n",
      "Enter Y string:  acbcf\n",
      "abcf\n"
     ]
    }
   ],
   "source": [
    "def LCS_print(X,Y,m,n):\n",
    "    string=''\n",
    "    table=[[-1 for x in range(0,n+1)] for x in range(0,m+1)]\n",
    "    for i in range(0,m+1):\n",
    "        table[i][0]=0\n",
    "    for k in range(1,n+1):\n",
    "        table[0][k]=0\n",
    "    for i in range(1,m+1):\n",
    "        for j in range(1,n+1):\n",
    "            if X[i-1]==Y[j-1]:\n",
    "                table[i][j]=1+table[i-1][j-1]\n",
    "            else:\n",
    "                table[i][j]=max(table[i-1][j],table[i][j-1])\n",
    "    #i,j=m,n       \n",
    "    while(i>0 and j>0):\n",
    "        if X[i-1]==Y[j-1]:\n",
    "            string=string+X[i-1]\n",
    "            i=i-1\n",
    "            j=j-1\n",
    "        else:\n",
    "            if table[i][j-1]>table[i-1][j]:\n",
    "                j=j-1\n",
    "            else:\n",
    "                i=i-1\n",
    "    return string\n",
    "    \n",
    "    \n",
    "if __name__=='__main__':\n",
    "    print('$$$$$$    This is program to print LCS $$$$$$')\n",
    "    X = input('Enter X string:  ')\n",
    "    Y = input('Enter Y string:  ')\n",
    "    m=len(X)\n",
    "    n=len(Y)\n",
    "    print(LCS_print(X,Y,m,n)[::-1])\n"
   ]
  },
  {
   "cell_type": "code",
   "execution_count": null,
   "metadata": {},
   "outputs": [],
   "source": []
  },
  {
   "cell_type": "code",
   "execution_count": 23,
   "metadata": {},
   "outputs": [
    {
     "name": "stdout",
     "output_type": "stream",
     "text": [
      "LCS of ABCDGH and AEDFHRB is ADH\n"
     ]
    }
   ],
   "source": [
    "# Dynamic programming implementation of LCS problem \n",
    "  \n",
    "# Returns length of LCS for X[0..m-1], Y[0..n-1]  \n",
    "def lcs(X, Y, m, n): \n",
    "    L = [[0 for x in range(n+1)] for x in range(m+1)] \n",
    "  \n",
    "    # Following steps build L[m+1][n+1] in bottom up fashion. Note \n",
    "    # that L[i][j] contains length of LCS of X[0..i-1] and Y[0..j-1]  \n",
    "    for i in range(m+1): \n",
    "        for j in range(n+1): \n",
    "            if i == 0 or j == 0: \n",
    "                L[i][j] = 0\n",
    "            elif X[i-1] == Y[j-1]: \n",
    "                L[i][j] = L[i-1][j-1] + 1\n",
    "            else: \n",
    "                L[i][j] = max(L[i-1][j], L[i][j-1]) \n",
    "  \n",
    "    # Following code is used to print LCS \n",
    "    index = L[m][n] \n",
    "  \n",
    "    # Create a character array to store the lcs string \n",
    "    lcs = [\"\"] * (index+1) \n",
    "    lcs[index] = \"\" \n",
    "  \n",
    "    # Start from the right-most-bottom-most corner and \n",
    "    # one by one store characters in lcs[] \n",
    "    i = m \n",
    "    j = n \n",
    "    while i > 0 and j > 0: \n",
    "  \n",
    "        # If current character in X[] and Y are same, then \n",
    "        # current character is part of LCS \n",
    "        if X[i-1] == Y[j-1]: \n",
    "            lcs[index-1] = X[i-1] \n",
    "            i-=1\n",
    "            j-=1\n",
    "            index-=1\n",
    "  \n",
    "        # If not same, then find the larger of two and \n",
    "        # go in the direction of larger value \n",
    "        elif L[i-1][j] > L[i][j-1]: \n",
    "            i-=1\n",
    "        else: \n",
    "            j-=1\n",
    "  \n",
    "    print (\"LCS of \" + X + \" and \" + Y + \" is \" + \"\".join(lcs) ) \n",
    "  \n",
    "# Driver program \n",
    "X='ABCDGH'\n",
    "Y='AEDFHRB'\n",
    "m = len(X) \n",
    "n = len(Y) \n",
    "lcs(X, Y, m, n) \n",
    "  "
   ]
  },
  {
   "cell_type": "code",
   "execution_count": 6,
   "metadata": {},
   "outputs": [
    {
     "name": "stdout",
     "output_type": "stream",
     "text": [
      "Enter 1st String:  abcde\n",
      "Enter 2nd String:  abfce\n",
      "4\n"
     ]
    }
   ],
   "source": [
    "def longestcommonsubsequence(X,Y,m,n):\n",
    "    string=''\n",
    "    table=[[-1 for x in range(0,n+1)] for x in range(0,m+1)]\n",
    "    for i in range(0,m+1):\n",
    "        table[i][0]=0\n",
    "    for k in range(1,n+1):\n",
    "        table[0][k]=0\n",
    "    for i in range(1,m+1):\n",
    "        for j in range(1,n+1):\n",
    "            if X[i-1]==Y[j-1]:\n",
    "                table[i][j]=1+table[i-1][j-1]\n",
    "            else:\n",
    "                table[i][j]=max(table[i-1][j],table[i][j-1])\n",
    "    return table[m][n]\n",
    "    \n",
    "if __name__=='__main__':\n",
    "    X=input('Enter 1st String:  ')\n",
    "    Y=input('Enter 2nd String:  ')\n",
    "    m=len(X)\n",
    "    n=len(Y)\n",
    "    print(longestcommonsubsequence(X,Y,m,n))"
   ]
  },
  {
   "cell_type": "code",
   "execution_count": 4,
   "metadata": {},
   "outputs": [],
   "source": [
    "m=2\n",
    "n=3\n",
    "table=[[-1 for x in range(0,m+1)] for x in range(0,n+1)]"
   ]
  },
  {
   "cell_type": "code",
   "execution_count": 5,
   "metadata": {},
   "outputs": [
    {
     "data": {
      "text/plain": [
       "[[-1, -1, -1], [-1, -1, -1], [-1, -1, -1], [-1, -1, -1]]"
      ]
     },
     "execution_count": 5,
     "metadata": {},
     "output_type": "execute_result"
    }
   ],
   "source": [
    "table"
   ]
  },
  {
   "cell_type": "code",
   "execution_count": null,
   "metadata": {},
   "outputs": [],
   "source": []
  }
 ],
 "metadata": {
  "kernelspec": {
   "display_name": "Python 3",
   "language": "python",
   "name": "python3"
  },
  "language_info": {
   "codemirror_mode": {
    "name": "ipython",
    "version": 3
   },
   "file_extension": ".py",
   "mimetype": "text/x-python",
   "name": "python",
   "nbconvert_exporter": "python",
   "pygments_lexer": "ipython3",
   "version": "3.7.4"
  }
 },
 "nbformat": 4,
 "nbformat_minor": 2
}
