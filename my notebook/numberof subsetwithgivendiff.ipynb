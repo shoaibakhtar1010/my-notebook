{
 "cells": [
  {
   "cell_type": "code",
   "execution_count": 11,
   "metadata": {},
   "outputs": [],
   "source": [
    "def count_diff_subset(arr,diff):\n",
    "    k=sum(arr)\n",
    "    s1=(diff+k)//2\n",
    "    cnt=subset_sum(arr,s1)\n",
    "    return cnt\n",
    "def subset_sum(arr,s1):\n",
    "    n=len(arr)\n",
    "    subset=[[-1 for i in range(s1+1)] for i in range(n+1)]\n",
    "    for i in range(1,s1+1):\n",
    "        subset[0][i]=0\n",
    "    for i in range(0,n+1):\n",
    "        subset[i][0]=1\n",
    "    for i in range(1,n+1):\n",
    "        for j in range(1,s1+1):\n",
    "            if j<arr[i-1]:\n",
    "                subset[i][j]=subset[i-1][j]\n",
    "            else:\n",
    "                subset[i][j]=subset[i-1][j-arr[i-1]]+subset[i-1][j]\n",
    "    return subset[n][s1]\n",
    "                \n",
    "    \n",
    "    \n",
    "    \n",
    "    \n",
    "    \n",
    "    "
   ]
  },
  {
   "cell_type": "code",
   "execution_count": 12,
   "metadata": {},
   "outputs": [],
   "source": [
    "def subset_sum(arr,s1):\n",
    "    n=len(arr)\n",
    "    subset=[[-1 for i in range(s1+1)] for i in range(n+1)]\n",
    "    for i in range(1,s1+1):\n",
    "        subset[0][i]=0\n",
    "    for i in range(0,n+1):\n",
    "        subset[i][0]=1\n",
    "    for i in range(1,n+1):\n",
    "        for j in range(1,s1+1):\n",
    "            if j<arr[i-1]:\n",
    "                subset[i][j]=subset[i-1][j]\n",
    "            else:\n",
    "                subset[i][j]=subset[i-1][j-arr[i-1]]+subset[i-1][j]\n",
    "    return subset[n][s1]\n",
    "                \n",
    "    \n",
    "    "
   ]
  },
  {
   "cell_type": "code",
   "execution_count": 13,
   "metadata": {},
   "outputs": [
    {
     "data": {
      "text/plain": [
       "3"
      ]
     },
     "execution_count": 13,
     "metadata": {},
     "output_type": "execute_result"
    }
   ],
   "source": [
    "subset_sum([2,3,5,6,8,10],10)"
   ]
  },
  {
   "cell_type": "code",
   "execution_count": 15,
   "metadata": {},
   "outputs": [
    {
     "data": {
      "text/plain": [
       "4"
      ]
     },
     "execution_count": 15,
     "metadata": {},
     "output_type": "execute_result"
    }
   ],
   "source": [
    "count_diff_subset([1,1,2,3,4],1)"
   ]
  },
  {
   "cell_type": "code",
   "execution_count": null,
   "metadata": {},
   "outputs": [],
   "source": []
  }
 ],
 "metadata": {
  "kernelspec": {
   "display_name": "Python 3",
   "language": "python",
   "name": "python3"
  },
  "language_info": {
   "codemirror_mode": {
    "name": "ipython",
    "version": 3
   },
   "file_extension": ".py",
   "mimetype": "text/x-python",
   "name": "python",
   "nbconvert_exporter": "python",
   "pygments_lexer": "ipython3",
   "version": "3.7.4"
  }
 },
 "nbformat": 4,
 "nbformat_minor": 2
}
