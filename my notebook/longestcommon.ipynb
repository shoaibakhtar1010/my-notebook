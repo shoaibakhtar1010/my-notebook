{
 "cells": [
  {
   "cell_type": "code",
   "execution_count": null,
   "metadata": {},
   "outputs": [],
   "source": []
  },
  {
   "cell_type": "code",
   "execution_count": null,
   "metadata": {},
   "outputs": [],
   "source": []
  },
  {
   "cell_type": "code",
   "execution_count": null,
   "metadata": {},
   "outputs": [],
   "source": []
  },
  {
   "cell_type": "code",
   "execution_count": null,
   "metadata": {},
   "outputs": [],
   "source": []
  },
  {
   "cell_type": "code",
   "execution_count": 2,
   "metadata": {},
   "outputs": [
    {
     "name": "stdout",
     "output_type": "stream",
     "text": [
      "Enter 1st string: abcd\n",
      "Enter 2nd string: abcd\n",
      "4\n"
     ]
    }
   ],
   "source": [
    "def LCSubstring(X,Y,m,n):\n",
    "    val=-1\n",
    "    table=[[-1 for x in range(0,n+1)] for x in range(0,m+1)]\n",
    "    for i in range(0,n+1):\n",
    "        table[0][i]=0\n",
    "    for k in range(1,m+1):\n",
    "        table[k][0]=0\n",
    "    for i in range(1,m+1):\n",
    "        for j in range(1,n+1):\n",
    "            if X[i-1]==Y[j-1]:\n",
    "                table[i][j]=1+table[i-1][j-1]\n",
    "            else:\n",
    "                table[i][j]=0\n",
    "    for i in range(0,m+1):\n",
    "        for j in range(0,n+1):\n",
    "            if table[i][j]>val:\n",
    "                val=table[i][j]\n",
    "    return val\n",
    "if __name__=='__main__':\n",
    "    X = input('Enter 1st string: ')\n",
    "    Y = input('Enter 2nd string: ')\n",
    "    m=len(X)\n",
    "    n=len(Y)\n",
    "    print(LCSubstring(X,Y,m,n))\n"
   ]
  },
  {
   "cell_type": "code",
   "execution_count": 4,
   "metadata": {},
   "outputs": [
    {
     "data": {
      "text/plain": [
       "4"
      ]
     },
     "execution_count": 4,
     "metadata": {},
     "output_type": "execute_result"
    }
   ],
   "source": []
  },
  {
   "cell_type": "code",
   "execution_count": 111,
   "metadata": {},
   "outputs": [
    {
     "data": {
      "text/plain": [
       "[[-1, -1, -1],\n",
       " [-1, -1, -1],\n",
       " [-1, -1, -1],\n",
       " [-1, -1, -1],\n",
       " [-1, -1, -1],\n",
       " [-1, -1, -1],\n",
       " [-1, -1, -1],\n",
       " [-1, -1, -1]]"
      ]
     },
     "execution_count": 111,
     "metadata": {},
     "output_type": "execute_result"
    }
   ],
   "source": [
    "t=[[-1 for x in range(0,3)] for x in range(0,8)]\n",
    "t"
   ]
  },
  {
   "cell_type": "code",
   "execution_count": null,
   "metadata": {},
   "outputs": [],
   "source": []
  }
 ],
 "metadata": {
  "kernelspec": {
   "display_name": "Python 3",
   "language": "python",
   "name": "python3"
  },
  "language_info": {
   "codemirror_mode": {
    "name": "ipython",
    "version": 3
   },
   "file_extension": ".py",
   "mimetype": "text/x-python",
   "name": "python",
   "nbconvert_exporter": "python",
   "pygments_lexer": "ipython3",
   "version": "3.7.4"
  }
 },
 "nbformat": 4,
 "nbformat_minor": 2
}
