{
 "cells": [
  {
   "cell_type": "code",
   "execution_count": 23,
   "metadata": {},
   "outputs": [],
   "source": [
    "def shortest_supersequence(s1,s2,m,n):\n",
    "    table=[[-1 for i in range(m+1)]for i in range(n+1)]\n",
    "    for i in range(0,m+1):\n",
    "        table[0][i]=0\n",
    "    for j in range(1,n+1):\n",
    "        table[j][0]=0\n",
    "    for i in range(1,n+1):\n",
    "        for j in range(1,m+1):\n",
    "            if s2[i-1]==s1[j-1]:\n",
    "                table[i][j]=1+table[i-1][j-1]\n",
    "            else:\n",
    "                table[i][j]=max(table[i-1][j],table[i][j-1])\n",
    "    ins=n-table[n][m]\n",
    "    dels=m-table[n][m]\n",
    "    print(f\"num of insertions {ins} and deletions is  {dels}\")\n"
   ]
  },
  {
   "cell_type": "code",
   "execution_count": 24,
   "metadata": {},
   "outputs": [
    {
     "name": "stdout",
     "output_type": "stream",
     "text": [
      "num of insertions 1 and deletions is  2\n"
     ]
    }
   ],
   "source": [
    "x='heap'\n",
    "y='pea'\n",
    "m=len(x)\n",
    "n=len(y)\n",
    "shortest_supersequence(x,y,m,n)"
   ]
  },
  {
   "cell_type": "code",
   "execution_count": 1,
   "metadata": {},
   "outputs": [],
   "source": [
    " t=[[-1 for i in range(3+1)]for i in range(9+1)]"
   ]
  },
  {
   "cell_type": "code",
   "execution_count": 2,
   "metadata": {},
   "outputs": [
    {
     "data": {
      "text/plain": [
       "[[-1, -1, -1, -1],\n",
       " [-1, -1, -1, -1],\n",
       " [-1, -1, -1, -1],\n",
       " [-1, -1, -1, -1],\n",
       " [-1, -1, -1, -1],\n",
       " [-1, -1, -1, -1],\n",
       " [-1, -1, -1, -1],\n",
       " [-1, -1, -1, -1],\n",
       " [-1, -1, -1, -1],\n",
       " [-1, -1, -1, -1]]"
      ]
     },
     "execution_count": 2,
     "metadata": {},
     "output_type": "execute_result"
    }
   ],
   "source": [
    "t"
   ]
  },
  {
   "cell_type": "code",
   "execution_count": null,
   "metadata": {},
   "outputs": [],
   "source": []
  }
 ],
 "metadata": {
  "kernelspec": {
   "display_name": "Python 3",
   "language": "python",
   "name": "python3"
  },
  "language_info": {
   "codemirror_mode": {
    "name": "ipython",
    "version": 3
   },
   "file_extension": ".py",
   "mimetype": "text/x-python",
   "name": "python",
   "nbconvert_exporter": "python",
   "pygments_lexer": "ipython3",
   "version": "3.7.4"
  }
 },
 "nbformat": 4,
 "nbformat_minor": 2
}
