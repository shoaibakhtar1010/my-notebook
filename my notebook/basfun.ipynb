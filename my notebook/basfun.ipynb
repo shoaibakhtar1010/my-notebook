{
 "cells": [
  {
   "cell_type": "code",
   "execution_count": 29,
   "metadata": {},
   "outputs": [
    {
     "name": "stdout",
     "output_type": "stream",
     "text": [
      "Enter: 2\n",
      "(())\n",
      "()()\n"
     ]
    }
   ],
   "source": [
    "def balfun(open1,close,out):\n",
    "    if (open1==0 and close==0):\n",
    "        print(out)\n",
    "        return\n",
    "    if open1!=0:\n",
    "        out1=out+'('\n",
    "        balfun(open1-1,close,out1)\n",
    "    if open1<close:\n",
    "        out2=out+')'\n",
    "        balfun(open1,close-1,out2)\n",
    "if __name__=='__main__':\n",
    "    inp=int(input('Enter: '))\n",
    "    open1=close=inp\n",
    "    out=''\n",
    "    balfun(open1,close,out)\n",
    "            \n",
    "            \n",
    "            \n",
    "    \n",
    "    \n",
    "   \n",
    "    "
   ]
  },
  {
   "cell_type": "code",
   "execution_count": null,
   "metadata": {},
   "outputs": [],
   "source": [
    "inp"
   ]
  },
  {
   "cell_type": "code",
   "execution_count": 13,
   "metadata": {},
   "outputs": [
    {
     "ename": "SyntaxError",
     "evalue": "unexpected EOF while parsing (<ipython-input-13-14da6401ee73>, line 1)",
     "output_type": "error",
     "traceback": [
      "\u001b[1;36m  File \u001b[1;32m\"<ipython-input-13-14da6401ee73>\"\u001b[1;36m, line \u001b[1;32m1\u001b[0m\n\u001b[1;33m    inp=int(input('Enter:')\u001b[0m\n\u001b[1;37m                           ^\u001b[0m\n\u001b[1;31mSyntaxError\u001b[0m\u001b[1;31m:\u001b[0m unexpected EOF while parsing\n"
     ]
    }
   ],
   "source": [
    "inp=int(input('Enter:')"
   ]
  },
  {
   "cell_type": "code",
   "execution_count": 25,
   "metadata": {},
   "outputs": [
    {
     "name": "stdout",
     "output_type": "stream",
     "text": [
      "Enter string: abc\n",
      "['a_b_c', 'a_bc', 'ab_c', 'abc']\n"
     ]
    }
   ],
   "source": [
    "def perm_spaces(inp,out):\n",
    "    if len(inp)==0:\n",
    "        lis.append(out)\n",
    "        return\n",
    "    out1=out+'_'+inp[0]\n",
    "    out2=out+inp[0]\n",
    "    perm_spaces(inp[1:],out1)\n",
    "    perm_spaces(inp[1:],out2)\n",
    "if __name__=='__main__':\n",
    "    inp=input('Enter string: ')\n",
    "    op=''\n",
    "    op=op+inp[0]\n",
    "    lis=[]\n",
    "    perm_spaces(inp[1:],op)\n",
    "    print(lis)\n",
    "    "
   ]
  },
  {
   "cell_type": "code",
   "execution_count": 5,
   "metadata": {},
   "outputs": [
    {
     "name": "stdout",
     "output_type": "stream",
     "text": [
      "Enter the string:abc\n",
      "[' ', ' c', ' b', ' bc', ' a', ' ac', ' ab', ' abc']\n"
     ]
    }
   ],
   "source": [
    "def powset(s,o):\n",
    "    if len(s)==0:\n",
    "        lis.append(o)\n",
    "        return \n",
    "    o1=o\n",
    "    o2=o+s[0]\n",
    "    powset(s[1:],o1)\n",
    "    powset(s[1:],o2)\n",
    "if __name__=='__main__':\n",
    "    string=input('Enter the string:')\n",
    "    output=' '\n",
    "    lis=[]\n",
    "    powset(string,output)\n",
    "    print(lis)\n",
    "\n"
   ]
  },
  {
   "cell_type": "code",
   "execution_count": 21,
   "metadata": {},
   "outputs": [],
   "source": []
  },
  {
   "cell_type": "code",
   "execution_count": 22,
   "metadata": {},
   "outputs": [
    {
     "data": {
      "text/plain": [
       "'_'"
      ]
     },
     "execution_count": 22,
     "metadata": {},
     "output_type": "execute_result"
    }
   ],
   "source": []
  },
  {
   "cell_type": "code",
   "execution_count": null,
   "metadata": {},
   "outputs": [],
   "source": []
  }
 ],
 "metadata": {
  "kernelspec": {
   "display_name": "Python 3",
   "language": "python",
   "name": "python3"
  },
  "language_info": {
   "codemirror_mode": {
    "name": "ipython",
    "version": 3
   },
   "file_extension": ".py",
   "mimetype": "text/x-python",
   "name": "python",
   "nbconvert_exporter": "python",
   "pygments_lexer": "ipython3",
   "version": "3.7.4"
  }
 },
 "nbformat": 4,
 "nbformat_minor": 2
}
