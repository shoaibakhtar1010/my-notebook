{
 "cells": [
  {
   "cell_type": "code",
   "execution_count": 7,
   "metadata": {},
   "outputs": [],
   "source": [
    "def allocatemnmpages(A,k):\n",
    "    n=len(A)\n",
    "    start=max(A)\n",
    "    end=sum(A)\n",
    "    if n<k:\n",
    "        return -1\n",
    "    while start<=end:\n",
    "        mid=start+(end-start)//2\n",
    "        if isvalid(A,k,mid,n)==True:\n",
    "            result=mid\n",
    "            end=mid-1\n",
    "        else:\n",
    "            start=mid+1\n",
    "    return result\n",
    "def isvalid(A,k,mid,n):\n",
    "    student=1\n",
    "    sm=0\n",
    "    for i in range(0,n):\n",
    "        sm=sm+A[i]\n",
    "        if sm>mid:\n",
    "            student=student+1\n",
    "            sm=A[i]\n",
    "        if student>k:\n",
    "            return False\n",
    "    return True\n",
    "        \n",
    "    \n",
    "        \n",
    "    "
   ]
  },
  {
   "cell_type": "code",
   "execution_count": 8,
   "metadata": {},
   "outputs": [
    {
     "data": {
      "text/plain": [
       "60"
      ]
     },
     "execution_count": 8,
     "metadata": {},
     "output_type": "execute_result"
    }
   ],
   "source": [
    "allocatemnmpages([10,30,20,40],2)"
   ]
  },
  {
   "cell_type": "code",
   "execution_count": 4,
   "metadata": {},
   "outputs": [
    {
     "data": {
      "text/plain": [
       "4"
      ]
     },
     "execution_count": 4,
     "metadata": {},
     "output_type": "execute_result"
    }
   ],
   "source": [
    "max(h)"
   ]
  },
  {
   "cell_type": "code",
   "execution_count": 11,
   "metadata": {},
   "outputs": [
    {
     "data": {
      "text/plain": [
       "0"
      ]
     },
     "execution_count": 11,
     "metadata": {},
     "output_type": "execute_result"
    }
   ],
   "source": [
    "1//2"
   ]
  },
  {
   "cell_type": "code",
   "execution_count": 14,
   "metadata": {},
   "outputs": [],
   "source": [
    "def painterspartition(A,k,t):\n",
    "    n=len(A)\n",
    "    start=max(A)\n",
    "    end=sum(A)\n",
    "    if n<k:\n",
    "        return -1\n",
    "    while start<=end:\n",
    "        mid=start+(end-start)//2\n",
    "        if isvalid(A,k,mid,n)==True:\n",
    "            result=mid\n",
    "            end=mid-1\n",
    "        else:\n",
    "            start=mid+1\n",
    "    return result*t\n",
    "def isvalid(A,k,mid,n):\n",
    "    student=1\n",
    "    sm=0\n",
    "    for i in range(0,n):\n",
    "        sm=sm+A[i]\n",
    "        if sm>mid:\n",
    "            student=student+1\n",
    "            sm=A[i]\n",
    "        if student>k:\n",
    "            return False\n",
    "    return True\n",
    "        \n",
    "    \n",
    "        \n",
    "    "
   ]
  },
  {
   "cell_type": "code",
   "execution_count": 15,
   "metadata": {},
   "outputs": [
    {
     "data": {
      "text/plain": [
       "-1"
      ]
     },
     "execution_count": 15,
     "metadata": {},
     "output_type": "execute_result"
    }
   ],
   "source": [
    "a=[1,10]\n",
    "b=3\n",
    "c=5\n",
    "painterspartition(a,b,c)"
   ]
  },
  {
   "cell_type": "code",
   "execution_count": null,
   "metadata": {},
   "outputs": [],
   "source": []
  }
 ],
 "metadata": {
  "kernelspec": {
   "display_name": "Python 3",
   "language": "python",
   "name": "python3"
  },
  "language_info": {
   "codemirror_mode": {
    "name": "ipython",
    "version": 3
   },
   "file_extension": ".py",
   "mimetype": "text/x-python",
   "name": "python",
   "nbconvert_exporter": "python",
   "pygments_lexer": "ipython3",
   "version": "3.7.4"
  }
 },
 "nbformat": 4,
 "nbformat_minor": 2
}
