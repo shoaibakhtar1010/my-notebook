{
 "cells": [
  {
   "cell_type": "code",
   "execution_count": 12,
   "metadata": {},
   "outputs": [],
   "source": [
    "\n",
    "def knapsackrec(wt,val,W,n):\n",
    "    \n",
    "    if n==0 or W==0:\n",
    "        return 0\n",
    "    if wt[n-1]<=W:\n",
    "        return max(val[n-1]+knapsack(wt,val,W-wt[n-1],n-1),knapsack(wt,val,W,n-1))\n",
    "    else:\n",
    "        return knapsack(wt,val,W,n-1)\n",
    "        "
   ]
  },
  {
   "cell_type": "code",
   "execution_count": 13,
   "metadata": {},
   "outputs": [
    {
     "data": {
      "text/plain": [
       "100"
      ]
     },
     "execution_count": 13,
     "metadata": {},
     "output_type": "execute_result"
    }
   ],
   "source": [
    "knapsackrec([10,20,30],[60,100,120],20,3)"
   ]
  },
  {
   "cell_type": "code",
   "execution_count": 22,
   "metadata": {},
   "outputs": [
    {
     "name": "stdout",
     "output_type": "stream",
     "text": [
      "Enter the weight array: 10 20 30\n",
      "Enter val of items in knapsack:60 100 120\n",
      "Enter weight of knapsack: 50\n",
      "220\n"
     ]
    }
   ],
   "source": [
    "def knapsackmem(wt,val,W,n):\n",
    "    if n==0 or W==0:\n",
    "        return 0\n",
    "    if t[n][W]!=-1:\n",
    "        return t[n][W]\n",
    "    \n",
    "    if wt[n-1]<=W:\n",
    "        t[n][W]=max(val[n-1]+knapsackmem(wt,val,W-wt[n-1],n-1),knapsackmem(wt,val,W,n-1))\n",
    "        return t[n][W]\n",
    "    else:\n",
    "        t[n][W]=knapsackmem(wt,val,W,n-1)\n",
    "        return t[n][W]\n",
    "if __name__=='__main__':\n",
    "    \n",
    "    wt=[int(x) for x in input('Enter the weight array: ').split() ]\n",
    "    val=[int(x) for x in input('Enter val of items in knapsack:').split()]\n",
    "    W=int(input('Enter weight of knapsack: '))\n",
    "    n=len(wt)\n",
    "    t=[[-1 for x in range(0,W+1)] for x in range(0,n+1)]\n",
    "    print(knapsackmem(wt,val,W,n))\n",
    "    \n",
    "        "
   ]
  },
  {
   "cell_type": "code",
   "execution_count": 16,
   "metadata": {},
   "outputs": [
    {
     "data": {
      "text/plain": [
       "[1, 2, 3, 4, 5]"
      ]
     },
     "execution_count": 16,
     "metadata": {},
     "output_type": "execute_result"
    }
   ],
   "source": [
    "wt"
   ]
  },
  {
   "cell_type": "code",
   "execution_count": 27,
   "metadata": {},
   "outputs": [
    {
     "name": "stdout",
     "output_type": "stream",
     "text": [
      "Enter the weight array: 1 2 3\n",
      "Enter val of items in knapsack:10 15 40\n",
      "Enter weight of knapsack: 6\n",
      "65\n"
     ]
    }
   ],
   "source": [
    "def knapsacktpdn(wt,val,W,n):\n",
    "    table=[[-1 for x in range(0,W+1)] for x in range(n+1)]\n",
    "    for i in range(0,W+1):\n",
    "        table[0][i]=0\n",
    "    for i in range(1,n+1):\n",
    "        table[i][0]=0\n",
    "    for i in range(1,n+1):\n",
    "        for j in range(1,W+1):\n",
    "            if wt[i-1]<=j:\n",
    "                table[i][j]=max(val[i-1]+table[i-1][j-wt[i-1]],table[i-1][j])\n",
    "            else:\n",
    "                table[i][j]=table[i-1][j]\n",
    "    return table[n][W]\n",
    "\n",
    "\n",
    "if __name__=='__main__':\n",
    "    \n",
    "    wt=[int(x) for x in input('Enter the weight array: ').split() ]\n",
    "    val=[int(x) for x in input('Enter val of items in knapsack:').split()]\n",
    "    W=int(input('Enter weight of knapsack: '))\n",
    "    n=len(wt)\n",
    "    t=[[-1 for x in range(0,W+1)] for x in range(0,n+1)]\n",
    "    print(knapsacktpdn(wt,val,W,n))\n",
    "    \n",
    "        \n",
    "\n"
   ]
  },
  {
   "cell_type": "code",
   "execution_count": null,
   "metadata": {},
   "outputs": [],
   "source": []
  }
 ],
 "metadata": {
  "kernelspec": {
   "display_name": "Python 3",
   "language": "python",
   "name": "python3"
  },
  "language_info": {
   "codemirror_mode": {
    "name": "ipython",
    "version": 3
   },
   "file_extension": ".py",
   "mimetype": "text/x-python",
   "name": "python",
   "nbconvert_exporter": "python",
   "pygments_lexer": "ipython3",
   "version": "3.7.4"
  }
 },
 "nbformat": 4,
 "nbformat_minor": 2
}
