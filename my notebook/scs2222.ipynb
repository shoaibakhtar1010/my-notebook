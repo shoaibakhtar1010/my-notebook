{
 "cells": [
  {
   "cell_type": "code",
   "execution_count": 1,
   "metadata": {},
   "outputs": [],
   "source": [
    "k=[[c for c in range(0,7)] for c in range(0,2)]"
   ]
  },
  {
   "cell_type": "code",
   "execution_count": 2,
   "metadata": {},
   "outputs": [
    {
     "data": {
      "text/plain": [
       "[[0, 1, 2, 3, 4, 5, 6], [0, 1, 2, 3, 4, 5, 6]]"
      ]
     },
     "execution_count": 2,
     "metadata": {},
     "output_type": "execute_result"
    }
   ],
   "source": [
    "k"
   ]
  },
  {
   "cell_type": "code",
   "execution_count": 21,
   "metadata": {},
   "outputs": [],
   "source": [
    "def LCS(X,Y,m,n):\n",
    "    s=''\n",
    "    table=[[-1 for x in range(0,n+1)] for x in range(0,m+1)]\n",
    "    for i in range(0,n+1):\n",
    "        table[0][i]=0\n",
    "    for k in range(1,m+1):\n",
    "        table[k][0]=0\n",
    "    for i in range(1,m+1):\n",
    "        for j in range(1,n+1):\n",
    "            if X[i-1]==Y[j-1]:\n",
    "                table[i][j]=1+table[i-1][j-1]\n",
    "            else:\n",
    "                table[i][j]=max(table[i-1][j],table[i][j-1])\n",
    "    table[m][n]\n",
    "    while i>0 and j>0:\n",
    "        if X[i-1]==Y[j-1]:\n",
    "            s=s+X[i-1]\n",
    "            i=i-1\n",
    "            j=j-1\n",
    "        else:\n",
    "            if table[i-1][j]<table[i][j-1]:\n",
    "                s=s+Y[j-1]\n",
    "                j=j-1\n",
    "               \n",
    "            else:\n",
    "                s=s+X[i-1]\n",
    "                i=i-1\n",
    "                \n",
    "    while i>0:\n",
    "        s=s+X[i-1]\n",
    "        i=i-1\n",
    "    while j>0:\n",
    "        s=s+Y[j-1]\n",
    "        j=j-1\n",
    "                \n",
    "            \n",
    "    return s[::-1]"
   ]
  },
  {
   "cell_type": "code",
   "execution_count": 22,
   "metadata": {},
   "outputs": [
    {
     "data": {
      "text/plain": [
       "'AGXGTXAYB'"
      ]
     },
     "execution_count": 22,
     "metadata": {},
     "output_type": "execute_result"
    }
   ],
   "source": [
    "X = \"AGGTAB\"\n",
    "Y = \"GXTXAYB\"\n",
    "m=len(X)\n",
    "n=len(Y)\n",
    "LCS(X,Y,m,n)"
   ]
  },
  {
   "cell_type": "code",
   "execution_count": 8,
   "metadata": {},
   "outputs": [
    {
     "name": "stdout",
     "output_type": "stream",
     "text": [
      "Length of the shortest supersequence is 9\n"
     ]
    }
   ],
   "source": [
    "# Python program to find length \n",
    "# of the shortest supersequence \n",
    "\n",
    "# Function to find length of the \n",
    "# shortest supersequence of X and Y. \n",
    "def shortestSuperSequence(X, Y): \n",
    "\tm = len(X) \n",
    "\tn = len(Y) \n",
    "\tl = lcs(X, Y, m, n) \n",
    "\t\n",
    "\t# Result is sum of input string \n",
    "\t# lengths - length of lcs \n",
    "\treturn (m + n - l) \n",
    "\n",
    "# Returns length of LCS for \n",
    "# X[0..m - 1], Y[0..n - 1] \n",
    "def lcs(X, Y, m, n): \n",
    "\tL = [[0] * (n + 2) for i in\n",
    "\t\t\t\t\trange(m + 2)] \n",
    "\t\n",
    "\t# Following steps build L[m + 1][n + 1] \n",
    "\t# in bottom up fashion. Note that L[i][j] \n",
    "\t# contains length of LCS of X[0..i - 1] \n",
    "\t# and Y[0..j - 1] \n",
    "\tfor i in range(m + 1): \n",
    "\t\t\n",
    "\t\tfor j in range(n + 1): \n",
    "\t\t\t\n",
    "\t\t\tif (i == 0 or j == 0) : L[i][j] = 0\n",
    "\t\t\t\n",
    "\t\t\telif (X[i - 1] == Y[j - 1]) : \n",
    "\t\t\t\tL[i][j] = L[i - 1][j - 1] + 1\n",
    "\t\t\t\t\n",
    "\t\t\telse : L[i][j] = max(L[i - 1][j], \n",
    "\t\t\t\t\t\t\t\tL[i][j - 1]) \n",
    "\t\t\t\n",
    "\t# L[m][n] contains length of \n",
    "\t# LCS for X[0..n - 1] and Y[0..m - 1] \n",
    "\treturn L[m][n] \n",
    "\n",
    "# Driver code \n",
    "X = \"AGGTAB\"\n",
    "Y = \"GXTXAYB\"\n",
    "\n",
    "print(\"Length of the shortest supersequence is %d\"\n",
    "\t\t\t\t\t% shortestSuperSequence(X, Y)) \n",
    "\n",
    "# This code is contributed by Ansu Kumari \n"
   ]
  },
  {
   "cell_type": "code",
   "execution_count": 20,
   "metadata": {},
   "outputs": [
    {
     "name": "stdout",
     "output_type": "stream",
     "text": [
      "AGXGTXAYB\n"
     ]
    }
   ],
   "source": [
    "# A dynamic programming based Python3 program print \n",
    "# shortest supersequence of two strings \n",
    "\n",
    "# returns shortest supersequence of X and Y \n",
    "def printShortestSuperSeq(x, y): \n",
    "\tm = len(x) \n",
    "\tn = len(y) \n",
    "\n",
    "\t# dp[i][j] contains length of shortest \n",
    "\t# supersequence for X[0..i-1] and Y[0..j-1] \n",
    "\tdp = [[0 for i in range(n + 1)] \n",
    "\t\t\tfor j in range(n + 1)] \n",
    "\n",
    "\t# Fill table in bottom up manner \n",
    "\tfor i in range(m + 1): \n",
    "\t\tfor j in range(n + 1): \n",
    "\n",
    "\t\t\t# Below steps follow recurrence relation \n",
    "\t\t\tif i == 0: \n",
    "\t\t\t\tdp[i][j] = j \n",
    "\t\t\telif j == 0: \n",
    "\t\t\t\tdp[i][j] = i \n",
    "\t\t\telif x[i - 1] == y[j - 1]: \n",
    "\t\t\t\tdp[i][j] = 1 + dp[i - 1][j - 1] \n",
    "\t\t\telse: \n",
    "\t\t\t\tdp[i][j] = 1 + min(dp[i - 1][j], \n",
    "\t\t\t\t\t\t\t\tdp[i][j - 1]) \n",
    "\n",
    "\t# Following code is used to print \n",
    "\t# shortest supersequence \n",
    "\n",
    "\t# dp[m][n] stores the length of the \n",
    "\t# shortest supersequence of X and Y \n",
    "\tindex = dp[m][n] \n",
    "\n",
    "\t# string to store the shortest supersequence \n",
    "\tstring = \"\" \n",
    "\n",
    "\t# Start from the bottom right corner and \n",
    "\t# one by one push characters in output string \n",
    "\ti = m \n",
    "\tj = n \n",
    "\twhile i > 0 and j > 0: \n",
    "\n",
    "\t\t# If current character in X and Y are same, \n",
    "\t\t# then current character is part of \n",
    "\t\t# shortest supersequence \n",
    "\t\tif x[i - 1] == y[j - 1]: \n",
    "\n",
    "\t\t\t# Put current character in result \n",
    "\t\t\tstring += x[i - 1] \n",
    "\n",
    "\t\t\t# reduce values of i, j and index \n",
    "\t\t\ti -= 1\n",
    "\t\t\tj -= 1\n",
    "\t\t\tindex -= 1\n",
    "\n",
    "\t\t# If current character in X and Y are different \n",
    "\t\telif dp[i - 1][j] > dp[i][j - 1]: \n",
    "\n",
    "\t\t\t# Put current character of Y in result \n",
    "\t\t\tstring += y[j - 1] \n",
    "\n",
    "\t\t\t# reduce values of j and index \n",
    "\t\t\tj -= 1\n",
    "\t\t\tindex -= 1\n",
    "\t\telse: \n",
    "\n",
    "\t\t\t# Put current character of X in result \n",
    "\t\t\tstring += x[i - 1] \n",
    "\n",
    "\t\t\t# reduce values of i and index \n",
    "\t\t\ti -= 1\n",
    "\t\t\tindex -= 1\n",
    "\n",
    "\t# If Y reaches its end, put remaining characters \n",
    "\t# of X in the result string \n",
    "\twhile i > 0: \n",
    "\t\tstring += x[i - 1] \n",
    "\t\ti -= 1\n",
    "\t\tindex -= 1\n",
    "\n",
    "\t# If X reaches its end, put remaining characters \n",
    "\t# of Y in the result string \n",
    "\twhile j > 0: \n",
    "\t\tstring += y[j - 1] \n",
    "\t\tj -= 1\n",
    "\t\tindex -= 1\n",
    "\n",
    "\tstring = list(string) \n",
    "\n",
    "\t# reverse the string and return it \n",
    "\tstring.reverse() \n",
    "\treturn ''.join(string) \n",
    "\n",
    "# Driver Code \n",
    "if __name__ == \"__main__\":\n",
    "    x = \"AGGTAB\"\n",
    "    y = \"GXTXAYB\"\n",
    "\n",
    "    print(printShortestSuperSeq(x, y)) \n",
    "\n",
    "# This code is contributed by \n",
    "# sanjeev2552 \n"
   ]
  },
  {
   "cell_type": "code",
   "execution_count": 34,
   "metadata": {},
   "outputs": [],
   "source": [
    "def LCS2(X,Y,m,n):\n",
    "    s=''\n",
    "    table=[[-1 for x in range(0,m+1)] for x in range(0,n+1)]\n",
    "    for i in range(0,n+1):\n",
    "        table[i][0]=0\n",
    "    for k in range(1,m+1):\n",
    "        table[0][k]=0\n",
    "    for i in range(1,n+1):\n",
    "        for j in range(1,m+1):\n",
    "            if X[j-1]==Y[i-1]:\n",
    "                table[i][j]=1+table[i-1][j-1]\n",
    "            else:\n",
    "                table[i][j]=max(table[i-1][j],table[i][j-1])\n",
    "    \n",
    "    while i>0 and j>0:\n",
    "        if X[j-1]==Y[i-1]:\n",
    "            s=s+X[j-1]\n",
    "            i=i-1\n",
    "            j=j-1\n",
    "        else:\n",
    "            if table[i-1][j]>table[i][j-1]:\n",
    "                s=s+Y[i-1]\n",
    "                i=i-1\n",
    "                \n",
    "               \n",
    "            else:\n",
    "                s=s+X[j-1]\n",
    "                j=j-1\n",
    "               \n",
    "                \n",
    "    while i>0:\n",
    "        s=s+Y[i-1]\n",
    "        i=i-1\n",
    "    while j>0:\n",
    "        s=s+X[j-1]\n",
    "        j=j-1\n",
    "                \n",
    "            \n",
    "    return s[::-1]"
   ]
  },
  {
   "cell_type": "code",
   "execution_count": 35,
   "metadata": {},
   "outputs": [
    {
     "data": {
      "text/plain": [
       "'AGXGTXAYB'"
      ]
     },
     "execution_count": 35,
     "metadata": {},
     "output_type": "execute_result"
    }
   ],
   "source": [
    "X = \"AGGTAB\"\n",
    "Y = \"GXTXAYB\"\n",
    "m=len(X)\n",
    "n=len(Y)\n",
    "LCS2(X,Y,m,n)"
   ]
  },
  {
   "cell_type": "code",
   "execution_count": null,
   "metadata": {},
   "outputs": [],
   "source": []
  }
 ],
 "metadata": {
  "kernelspec": {
   "display_name": "Python 3",
   "language": "python",
   "name": "python3"
  },
  "language_info": {
   "codemirror_mode": {
    "name": "ipython",
    "version": 3
   },
   "file_extension": ".py",
   "mimetype": "text/x-python",
   "name": "python",
   "nbconvert_exporter": "python",
   "pygments_lexer": "ipython3",
   "version": "3.7.4"
  }
 },
 "nbformat": 4,
 "nbformat_minor": 2
}
