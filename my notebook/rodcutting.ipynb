{
 "cells": [
  {
   "cell_type": "code",
   "execution_count": 103,
   "metadata": {},
   "outputs": [],
   "source": [
    "def rodd_cutt(price,N):\n",
    "    length=[x for x in range(1,N+1)]\n",
    "    \n",
    "    import  numpy as np\n",
    "   \n",
    "    k=np.zeros((N+1,N+1))\n",
    "    \n",
    "    for i in range(1,N+1):\n",
    "        for j in range(1,N+1):\n",
    "            if length[i-1]<=j:\n",
    "                k[i][j]=max(price[i-1]+k[i][j-length[i-1]],k[i-1][j])\n",
    "               \n",
    "            else:\n",
    "                 k[i][j]=k[i-1][j]\n",
    "                \n",
    "    return k[N][N]\n",
    "                \n",
    "if __name__=='__main__':\n",
    "    price=[int(x) for x in input('Enter the price for rodd: ')]\n",
    "    N=int(input('Enter length of rod: '))\n",
    "    print(rodd_cutt(price,N))\n",
    "            \n",
    "        "
   ]
  },
  {
   "cell_type": "code",
   "execution_count": 104,
   "metadata": {},
   "outputs": [
    {
     "data": {
      "text/plain": [
       "22.0"
      ]
     },
     "execution_count": 104,
     "metadata": {},
     "output_type": "execute_result"
    }
   ],
   "source": [
    "price = [1, 5, 8, 9, 10, 17, 17, 20]\n",
    "N=8\n",
    "rodd_cutt(price,N)"
   ]
  },
  {
   "cell_type": "code",
   "execution_count": 18,
   "metadata": {},
   "outputs": [],
   "source": [
    " k=[[ -1 for i in range(N+1)]for j in range (N+1)]"
   ]
  },
  {
   "cell_type": "code",
   "execution_count": 77,
   "metadata": {},
   "outputs": [],
   "source": [
    "def cutRod(price, n): \n",
    "    INT_MIN = -32767\n",
    "    val = [0 for x in range(n+1)] \n",
    "    val[0] = 0\n",
    "  \n",
    "    # Build the table val[] in bottom up manner and return \n",
    "    # the last entry from the table \n",
    "    for i in range(1, n+1): \n",
    "        max_val = INT_MIN \n",
    "        for j in range(i): \n",
    "             max_val = max(max_val, price[j] + val[i-j-1]) \n",
    "        val[i] = max_val \n",
    "  \n",
    "    return val[n] "
   ]
  },
  {
   "cell_type": "code",
   "execution_count": 78,
   "metadata": {},
   "outputs": [
    {
     "data": {
      "text/plain": [
       "22"
      ]
     },
     "execution_count": 78,
     "metadata": {},
     "output_type": "execute_result"
    }
   ],
   "source": [
    "price = [1, 5, 8, 9, 10, 17, 17, 20]\n",
    "N=8\n",
    "cutRod(price,N)"
   ]
  },
  {
   "cell_type": "code",
   "execution_count": 80,
   "metadata": {},
   "outputs": [
    {
     "name": "stdout",
     "output_type": "stream",
     "text": [
      "Maximum profit is 8.0\n"
     ]
    }
   ],
   "source": [
    "# Using numpy arrays\n",
    "import numpy as np\n",
    "\n",
    "price = [1,2,3,4,5,6,7,8]\n",
    "n = 8\n",
    "\n",
    "# Make an initial grid of all zeros\n",
    "T = np.zeros((len(price),n+1))\n",
    "\n",
    "for i in range(0,len(price)):\n",
    "    for j in range(0,n+1):\n",
    "\n",
    "        # First column => 0 length of rod => 0 profit\n",
    "        if j == 0:\n",
    "            continue\n",
    "\n",
    "        # First row => T[i-1,j] doesn't exist so just pick the second value\n",
    "        elif i == 0:\n",
    "            T[i,j] = price[i] + T[i, j-i-1]\n",
    "\n",
    "        # where j <= i => T[i, j-i-1] doesn't exist so just pick the first value\n",
    "        elif (j-i-1) < 0:\n",
    "            T[i,j] = T[i-1,j]\n",
    "        \n",
    "        # using the whole expression\n",
    "        else:\n",
    "            T[i,j] = max(T[i-1,j], (price[i] + T[i, j-i-1]))\n",
    "        \n",
    "# Answer in the extreme bottom right cell\n",
    "print (\"Maximum profit is\", T[len(price)-1,n] )\n",
    "\n",
    "\n",
    "\n",
    "\n"
   ]
  },
  {
   "cell_type": "code",
   "execution_count": 93,
   "metadata": {},
   "outputs": [
    {
     "data": {
      "text/plain": [
       "array([[0., 0., 0., 0.],\n",
       "       [0., 0., 0., 0.],\n",
       "       [0., 0., 0., 0.],\n",
       "       [0., 0., 0., 0.]])"
      ]
     },
     "execution_count": 93,
     "metadata": {},
     "output_type": "execute_result"
    }
   ],
   "source": [
    "import numpy as np\n",
    "np.zeros((4,4))\n"
   ]
  },
  {
   "cell_type": "code",
   "execution_count": 96,
   "metadata": {},
   "outputs": [],
   "source": [
    "k=[i for i in range(0,6)]"
   ]
  },
  {
   "cell_type": "code",
   "execution_count": 97,
   "metadata": {},
   "outputs": [
    {
     "data": {
      "text/plain": [
       "[0, 1, 2, 3, 4, 5]"
      ]
     },
     "execution_count": 97,
     "metadata": {},
     "output_type": "execute_result"
    }
   ],
   "source": [
    "k"
   ]
  },
  {
   "cell_type": "code",
   "execution_count": null,
   "metadata": {},
   "outputs": [],
   "source": []
  }
 ],
 "metadata": {
  "kernelspec": {
   "display_name": "Python 3",
   "language": "python",
   "name": "python3"
  },
  "language_info": {
   "codemirror_mode": {
    "name": "ipython",
    "version": 3
   },
   "file_extension": ".py",
   "mimetype": "text/x-python",
   "name": "python",
   "nbconvert_exporter": "python",
   "pygments_lexer": "ipython3",
   "version": "3.7.4"
  }
 },
 "nbformat": 4,
 "nbformat_minor": 2
}
