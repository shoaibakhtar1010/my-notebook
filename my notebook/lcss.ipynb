{
 "cells": [
  {
   "cell_type": "code",
   "execution_count": 1,
   "metadata": {},
   "outputs": [],
   "source": [
    "k=[[c for c in range(0,7)] for c in range(0,2)]"
   ]
  },
  {
   "cell_type": "code",
   "execution_count": 2,
   "metadata": {},
   "outputs": [
    {
     "data": {
      "text/plain": [
       "[[0, 1, 2, 3, 4, 5, 6], [0, 1, 2, 3, 4, 5, 6]]"
      ]
     },
     "execution_count": 2,
     "metadata": {},
     "output_type": "execute_result"
    }
   ],
   "source": [
    "k"
   ]
  },
  {
   "cell_type": "code",
   "execution_count": 6,
   "metadata": {},
   "outputs": [
    {
     "name": "stdout",
     "output_type": "stream",
     "text": [
      "Enter 1st string:  abcde\n",
      "Enter 2nd string:  abfce\n",
      "4\n"
     ]
    }
   ],
   "source": [
    "def LCS(X,Y,m,n):\n",
    "    table=[[-1 for x in range(0,n+1)] for x in range(0,m+1)]\n",
    "    for i in range(0,n+1):\n",
    "        table[0][i]=0\n",
    "    for k in range(1,m+1):\n",
    "        table[k][0]=0\n",
    "    for i in range(1,m+1):\n",
    "        for j in range(1,n+1):\n",
    "            if X[i-1]==Y[j-1]:\n",
    "                table[i][j]=1+table[i-1][j-1]\n",
    "            else:\n",
    "                table[i][j]=max(table[i-1][j],table[i][j-1])\n",
    "    return table[m][n]\n",
    "\n",
    "\n",
    "if __name__=='__main__':\n",
    "    X =input('Enter 1st string:  ')\n",
    "    Y =input('Enter 2nd string:  ')\n",
    "    m=len(X)\n",
    "    n=len(Y)\n",
    "    print(LCS(X,Y,m,n))\n"
   ]
  },
  {
   "cell_type": "code",
   "execution_count": 2,
   "metadata": {},
   "outputs": [
    {
     "data": {
      "text/plain": [
       "4"
      ]
     },
     "execution_count": 2,
     "metadata": {},
     "output_type": "execute_result"
    }
   ],
   "source": []
  },
  {
   "cell_type": "code",
   "execution_count": null,
   "metadata": {},
   "outputs": [],
   "source": []
  }
 ],
 "metadata": {
  "kernelspec": {
   "display_name": "Python 3",
   "language": "python",
   "name": "python3"
  },
  "language_info": {
   "codemirror_mode": {
    "name": "ipython",
    "version": 3
   },
   "file_extension": ".py",
   "mimetype": "text/x-python",
   "name": "python",
   "nbconvert_exporter": "python",
   "pygments_lexer": "ipython3",
   "version": "3.7.4"
  }
 },
 "nbformat": 4,
 "nbformat_minor": 2
}
