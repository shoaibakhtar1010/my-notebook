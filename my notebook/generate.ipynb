{
 "cells": [
  {
   "cell_type": "code",
   "execution_count": 29,
   "metadata": {},
   "outputs": [
    {
     "name": "stdout",
     "output_type": "stream",
     "text": [
      "Enter: 2\n",
      "(())\n",
      "()()\n"
     ]
    }
   ],
   "source": [
    "def balfun(open1,close,out):\n",
    "    if (open1==0 and close==0):\n",
    "        print(out)\n",
    "        return\n",
    "    if open1!=0:\n",
    "        out1=out+'('\n",
    "        balfun(open1-1,close,out1)\n",
    "    if open1<close:\n",
    "        out2=out+')'\n",
    "        balfun(open1,close-1,out2)\n",
    "if __name__=='__main__':\n",
    "    inp=int(input('Enter: '))\n",
    "    open1=close=inp\n",
    "    out=''\n",
    "    lis=[]\n",
    "    balfun(open1,close,out)\n",
    "            \n",
    "            \n",
    "            \n",
    "    \n",
    "    \n",
    "   \n",
    "    "
   ]
  },
  {
   "cell_type": "code",
   "execution_count": null,
   "metadata": {},
   "outputs": [],
   "source": [
    "inp"
   ]
  },
  {
   "cell_type": "code",
   "execution_count": 13,
   "metadata": {},
   "outputs": [
    {
     "ename": "SyntaxError",
     "evalue": "unexpected EOF while parsing (<ipython-input-13-14da6401ee73>, line 1)",
     "output_type": "error",
     "traceback": [
      "\u001b[1;36m  File \u001b[1;32m\"<ipython-input-13-14da6401ee73>\"\u001b[1;36m, line \u001b[1;32m1\u001b[0m\n\u001b[1;33m    inp=int(input('Enter:')\u001b[0m\n\u001b[1;37m                           ^\u001b[0m\n\u001b[1;31mSyntaxError\u001b[0m\u001b[1;31m:\u001b[0m unexpected EOF while parsing\n"
     ]
    }
   ],
   "source": [
    "inp=int(input('Enter:')"
   ]
  },
  {
   "cell_type": "code",
   "execution_count": null,
   "metadata": {},
   "outputs": [],
   "source": []
  }
 ],
 "metadata": {
  "kernelspec": {
   "display_name": "Python 3",
   "language": "python",
   "name": "python3"
  },
  "language_info": {
   "codemirror_mode": {
    "name": "ipython",
    "version": 3
   },
   "file_extension": ".py",
   "mimetype": "text/x-python",
   "name": "python",
   "nbconvert_exporter": "python",
   "pygments_lexer": "ipython3",
   "version": "3.7.4"
  }
 },
 "nbformat": 4,
 "nbformat_minor": 2
}
