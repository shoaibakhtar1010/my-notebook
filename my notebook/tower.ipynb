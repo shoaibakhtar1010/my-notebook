{
 "cells": [
  {
   "cell_type": "code",
   "execution_count": 3,
   "metadata": {},
   "outputs": [
    {
     "name": "stdout",
     "output_type": "stream",
     "text": [
      "enter number:3\n",
      "moving plate from 1 to 3\n",
      "moving plate from 1 to 2\n",
      "moving plate from 3 to 2\n",
      "moving plate from 1 to 3\n",
      "moving plate from 2 to 1\n",
      "moving plate from 2 to 3\n",
      "moving plate from 1 to 3\n",
      "7\n"
     ]
    }
   ],
   "source": [
    "\n",
    "\n",
    "def TOH(n,s,h,d):\n",
    "    \n",
    "    global count\n",
    "    count+=1\n",
    "    if n==1:\n",
    "        print(f'moving plate from {s} to {d}')\n",
    "        return\n",
    "    TOH(n-1,s,d,h)\n",
    "    print(f'moving plate from {s} to {d}')\n",
    "    TOH(n-1,h,s,d)\n",
    "if __name__==\"__main__\":\n",
    "    n=int(input('enter number:'))\n",
    "    s=1\n",
    "    h=2\n",
    "    d=3\n",
    "    global count\n",
    "    count=0\n",
    "    TOH(n,s,h,d)\n",
    "    print(count)\n",
    "    \n",
    "\n",
    "   \n",
    "    \n",
    "      #TOH(number of plates,source plate,helper plate,destination plate)      \n",
    "            \n",
    "    "
   ]
  },
  {
   "cell_type": "code",
   "execution_count": null,
   "metadata": {},
   "outputs": [],
   "source": [
    "TOH(3,1,2,3)"
   ]
  },
  {
   "cell_type": "code",
   "execution_count": null,
   "metadata": {},
   "outputs": [],
   "source": [
    "def TOB(n,A,B,C):\n",
    "    if n>0:\n",
    "        TOB(n-1,A,C,B)\n",
    "        print(f'from {A} to {C}')\n",
    "        TOB(n-1,B,A,C)\n",
    "    "
   ]
  },
  {
   "cell_type": "code",
   "execution_count": null,
   "metadata": {},
   "outputs": [],
   "source": [
    "TOB(1,1,2,3)"
   ]
  },
  {
   "cell_type": "code",
   "execution_count": null,
   "metadata": {},
   "outputs": [],
   "source": [
    "s."
   ]
  },
  {
   "cell_type": "code",
   "execution_count": null,
   "metadata": {},
   "outputs": [],
   "source": [
    "s[0]"
   ]
  },
  {
   "cell_type": "code",
   "execution_count": null,
   "metadata": {},
   "outputs": [],
   "source": [
    "def powset(s,o):\n",
    "    if len(s)==0:\n",
    "        lis.append(o)\n",
    "        return \n",
    "    o1=o\n",
    "    o2=o+s[0]\n",
    "    powset(s[1:],o1)\n",
    "    powset(s[1:],o2)\n",
    "if __name__=='__main__':\n",
    "    string=input('Enter the string:')\n",
    "    output=' '\n",
    "    lis=[]\n",
    "    powset(string,output)\n",
    "    print(lis)\n",
    "\n"
   ]
  },
  {
   "cell_type": "code",
   "execution_count": null,
   "metadata": {},
   "outputs": [],
   "source": [
    "lis\n"
   ]
  },
  {
   "cell_type": "code",
   "execution_count": null,
   "metadata": {},
   "outputs": [],
   "source": [
    "ref"
   ]
  }
 ],
 "metadata": {
  "kernelspec": {
   "display_name": "Python 3",
   "language": "python",
   "name": "python3"
  },
  "language_info": {
   "codemirror_mode": {
    "name": "ipython",
    "version": 3
   },
   "file_extension": ".py",
   "mimetype": "text/x-python",
   "name": "python",
   "nbconvert_exporter": "python",
   "pygments_lexer": "ipython3",
   "version": "3.7.4"
  }
 },
 "nbformat": 4,
 "nbformat_minor": 2
}
