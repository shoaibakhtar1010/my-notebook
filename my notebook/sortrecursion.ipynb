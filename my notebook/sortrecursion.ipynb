{
 "cells": [
  {
   "cell_type": "code",
   "execution_count": 3,
   "metadata": {},
   "outputs": [],
   "source": [
    "def prit(n):\n",
    "\n",
    "    if n==0:\n",
    "        return\n",
    "    \n",
    "    \n",
    "    print(n)\n",
    "    prit(n-1)\n",
    "    "
   ]
  },
  {
   "cell_type": "code",
   "execution_count": 4,
   "metadata": {},
   "outputs": [
    {
     "name": "stdout",
     "output_type": "stream",
     "text": [
      "9\n",
      "8\n",
      "7\n",
      "6\n",
      "5\n",
      "4\n",
      "3\n",
      "2\n",
      "1\n"
     ]
    }
   ],
   "source": [
    "prit(9)"
   ]
  },
  {
   "cell_type": "code",
   "execution_count": 40,
   "metadata": {},
   "outputs": [],
   "source": [
    "class BinaryTree(object):\n",
    "    def __init__(self,rootObj):\n",
    "        self.key = rootObj\n",
    "        self.leftChild = None\n",
    "        self.rightChild = None\n",
    "\n",
    "    def insertLeft(self,newNode):\n",
    "        if self.leftChild == None:\n",
    "            self.leftChild = BinaryTree(newNode)\n",
    "        else:\n",
    "            t = BinaryTree(newNode)\n",
    "            t.leftChild = self.leftChild\n",
    "            self.leftChild = t\n",
    "\n",
    "    def insertRight(self,newNode):\n",
    "        if self.rightChild == None:\n",
    "            self.rightChild = BinaryTree(newNode)\n",
    "        else:\n",
    "            t = BinaryTree(newNode)\n",
    "            t.rightChild = self.rightChild\n",
    "            self.rightChild = t\n",
    "\n",
    "\n",
    "    def getRightChild(self):\n",
    "        return self.rightChild\n",
    "\n",
    "    def getLeftChild(self):\n",
    "        return self.leftChild\n",
    "\n",
    "    def setRootVal(self,obj):\n",
    "        self.key = obj\n",
    "\n",
    "    def getRootVal(self):\n",
    "        return self.key\n",
    "    def height_Bt(self,rootObj):\n",
    "        if root==0:\n",
    "            return 0\n",
    "        lh=height_Bt(root.left)\n",
    "        rh-height_Bt(root.right)\n",
    "        return 1+max(lh,rh)\n",
    "   "
   ]
  },
  {
   "cell_type": "code",
   "execution_count": 67,
   "metadata": {},
   "outputs": [
    {
     "name": "stdout",
     "output_type": "stream",
     "text": [
      "12\n",
      "12\n",
      "13\n",
      "13\n",
      "13\n"
     ]
    }
   ],
   "source": [
    "def printArray(arr,n): \n",
    "    for i in range(n): \n",
    "        print(arr[i])\n",
    "    return \n",
    "def insrt(A,val):\n",
    "    if len(A)==0 or A[-1]<=val:\n",
    "        A.append(val)\n",
    "        return\n",
    "    tmp=A.pop()\n",
    "    insrt(A,tmp)\n",
    "    A.append(tmp)\n",
    "    return\n",
    "def sorte(A):\n",
    "    l=len(A)\n",
    "    if l==1:\n",
    "        return \n",
    "    val=A.pop()\n",
    "    sorte(A)\n",
    "    insrt(A,val)\n",
    "    return \n",
    "\n",
    "\n",
    "  \n"
   ]
  },
  {
   "cell_type": "code",
   "execution_count": 66,
   "metadata": {},
   "outputs": [],
   "source": [
    "sorte([1,5,6,2,8,3,5])"
   ]
  },
  {
   "cell_type": "code",
   "execution_count": 17,
   "metadata": {},
   "outputs": [
    {
     "name": "stdout",
     "output_type": "stream",
     "text": [
      "Enter the numbers:  1 5 2 7 4  0 5\n",
      "[0, 1, 2, 4, 5, 5, 7]\n"
     ]
    }
   ],
   "source": [
    "def insrt(A,vl):\n",
    "    if len(A)==0 or A[-1]<=vl:\n",
    "        A.append(vl)\n",
    "        return\n",
    "    tmp=A.pop()\n",
    "    insrt(A,vl)\n",
    "    A.append(tmp)\n",
    "\n",
    "def sorte(A):\n",
    "    l=len(A)\n",
    "    if l==1:\n",
    "        return \n",
    "    vl=A.pop()\n",
    "    sorte(A)\n",
    "    insrt(A,vl)\n",
    "    return A\n",
    "if __name__=='__main__':\n",
    "    k=input('Enter the numbers:  ')\n",
    "    lis=[int(i) for i in k.split() ]\n",
    "    m=sorte(lis)\n",
    "    print(m)"
   ]
  },
  {
   "cell_type": "code",
   "execution_count": 14,
   "metadata": {},
   "outputs": [
    {
     "data": {
      "text/plain": [
       "[1, 2, 3, 5, 5, 6, 8]"
      ]
     },
     "execution_count": 14,
     "metadata": {},
     "output_type": "execute_result"
    }
   ],
   "source": [
    "sorte([1,5,6,2,8,3,5])"
   ]
  },
  {
   "cell_type": "code",
   "execution_count": 80,
   "metadata": {},
   "outputs": [],
   "source": [
    "def sorting(arr):\n",
    "\n",
    "    #Base Condition\n",
    "    if len(arr) == 1:\n",
    "        return\n",
    "\n",
    "    #Induction\n",
    "    last_num = arr[-1]\n",
    "    arr.pop()\n",
    "    sorting(arr)\n",
    "    insert(arr, last_num)\n",
    "\n",
    "    return arr\n",
    "\n",
    "def insert(arr, last_num):\n",
    "\n",
    "    #Base Condition\n",
    "    if len(arr) == 0 or arr[-1] <= last_num:\n",
    "        arr.append(last_num)\n",
    "        return\n",
    "\n",
    "    #Induction\n",
    "    val = arr[-1]\n",
    "    arr.pop()\n",
    "    insert(arr, last_num)\n",
    "    arr.append(val)"
   ]
  },
  {
   "cell_type": "code",
   "execution_count": 81,
   "metadata": {},
   "outputs": [
    {
     "data": {
      "text/plain": [
       "[1, 2, 2, 3, 4, 5, 7, 8, 9]"
      ]
     },
     "execution_count": 81,
     "metadata": {},
     "output_type": "execute_result"
    }
   ],
   "source": [
    "sorting([5,4,7,2,9,1,2,8,3])"
   ]
  },
  {
   "cell_type": "code",
   "execution_count": null,
   "metadata": {},
   "outputs": [],
   "source": []
  }
 ],
 "metadata": {
  "kernelspec": {
   "display_name": "Python 3",
   "language": "python",
   "name": "python3"
  },
  "language_info": {
   "codemirror_mode": {
    "name": "ipython",
    "version": 3
   },
   "file_extension": ".py",
   "mimetype": "text/x-python",
   "name": "python",
   "nbconvert_exporter": "python",
   "pygments_lexer": "ipython3",
   "version": "3.7.4"
  }
 },
 "nbformat": 4,
 "nbformat_minor": 2
}
