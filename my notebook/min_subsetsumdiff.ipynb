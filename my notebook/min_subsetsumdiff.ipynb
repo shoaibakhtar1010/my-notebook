{
 "cells": [
  {
   "cell_type": "code",
   "execution_count": 85,
   "metadata": {},
   "outputs": [],
   "source": [
    "import sys\n",
    "import math\n",
    "def min_subset_sum_diff(arr):\n",
    "    k=sum(arr)\n",
    "    n=len(arr)\n",
    "    subset1=subset(arr,k,n)\n",
    "    mn=sys.maxsize\n",
    "    \n",
    "    for i in range(0,((k//2)+1)):\n",
    "        if subset1[n][i]==True:\n",
    "            mn=min(mn,k-2*i)\n",
    "    return mn\n",
    "def subset(arr,k,n):\n",
    "    subset=[[False for i in range(0,k+1)] for i in range(n+1)]\n",
    "    for i in  range(1,k+1):\n",
    "        subset[0][i]=False\n",
    "    for i in range(0,n+1):\n",
    "        subset[i][0]=True\n",
    "    for i in range(1,n+1):\n",
    "        for j in range(1,k+1):\n",
    "            subset[i][j]=subset[i-1][j] or subset[i-1][j-arr[i-1]]\n",
    "    return subset"
   ]
  },
  {
   "cell_type": "code",
   "execution_count": 87,
   "metadata": {},
   "outputs": [
    {
     "data": {
      "text/plain": [
       "883"
      ]
     },
     "execution_count": 87,
     "metadata": {},
     "output_type": "execute_result"
    }
   ],
   "source": [
    "a = [ 3, 1, 4, 2, 2, 1 ,4,900] \n",
    "min_subset_sum_diff(a)"
   ]
  },
  {
   "cell_type": "code",
   "execution_count": 1,
   "metadata": {},
   "outputs": [
    {
     "name": "stdout",
     "output_type": "stream",
     "text": [
      "The minimum difference between 2 sets is  1\n"
     ]
    }
   ],
   "source": [
    "# A Recursive Python3 program to solve \n",
    "# minimum sum partition problem. \n",
    "import sys \n",
    "\n",
    "# Returns the minimum value of the \n",
    "# difference of the two sets. \n",
    "def findMin(a, n): \n",
    "\t\n",
    "\tsu = 0\n",
    "\t\n",
    "\t# Calculate sum of all elements \n",
    "\tsu = sum(a) \n",
    "\n",
    "\t# Create an 2d list to store \n",
    "\t# results of subproblems \n",
    "\tdp = [[0 for i in range(su + 1)] \n",
    "\t\t\tfor j in range(n + 1)] \n",
    "\n",
    "\t# Initialize first column as true. \n",
    "\t# 0 sum is possible \n",
    "\t# with all elements. \n",
    "\tfor i in range(n + 1): \n",
    "\t\tdp[i][0] = True\n",
    "\t\t\n",
    "\t# Initialize top row, except dp[0][0], \n",
    "\t# as false. With 0 elements, no other \n",
    "\t# sum except 0 is possible \n",
    "\tfor j in range(1, su + 1): \n",
    "\t\tdp[0][j] = False\n",
    "\t\n",
    "\t# Fill the partition table in \n",
    "\t# bottom up manner \n",
    "\tfor i in range(1, n + 1): \n",
    "\t\tfor j in range(1, su + 1): \n",
    "\t\t\t\n",
    "\t\t\t# If i'th element is excluded \n",
    "\t\t\tdp[i][j] = dp[i - 1][j] \n",
    "\t\t\t\n",
    "\t\t\t# If i'th element is included \n",
    "\t\t\tif a[i - 1] <= j: \n",
    "\t\t\t\tdp[i][j] |= dp[i - 1][j - a[i - 1]] \n",
    "\t\n",
    "\t# Initialize difference \n",
    "\t# of two sums. \n",
    "\tdiff = sys.maxsize \n",
    "\n",
    "\t# Find the largest j such that dp[n][j] \n",
    "\t# is true where j loops from sum/2 t0 0 \n",
    "\tfor j in range(su-1, -1, -1): \n",
    "\t\tif dp[n][j] == True: \n",
    "\t\t\tdiff = su - j \n",
    "\t\t\tbreak\n",
    "\t\t\t\n",
    "\treturn diff \n",
    "\t\n",
    "# Driver code \n",
    "a = [ 3, 1, 4, 2, 2, 1,4,982]\n",
    "n = len(a) \n",
    "\t\n",
    "print(\"The minimum difference between \"\n",
    "\t\"2 sets is \", findMin(a, n)) \n",
    "\n",
    "# This code is contributed by Tokir Manva \n"
   ]
  },
  {
   "cell_type": "markdown",
   "metadata": {},
   "source": [
    "## "
   ]
  },
  {
   "cell_type": "code",
   "execution_count": null,
   "metadata": {},
   "outputs": [],
   "source": []
  },
  {
   "cell_type": "markdown",
   "metadata": {},
   "source": [
    "\n",
    "\n",
    "\n",
    "def subsetsum(subset,summ,n):\n",
    "    table=[[False for x in range(0,summ+1)] for x in range(n+1)]\n",
    "    for i in range(0,n+1):\n",
    "        table[i][0]=True\n",
    "    for i in range(1,n+1):\n",
    "        for j in range(1,summ+1):\n",
    "            if subset[i-1]<=j:\n",
    "                table[i][j]=table[i-1][j-subset[i-1]] or table[i-1][j]\n",
    "            else:\n",
    "                table[i][j]=table[i-1][j]\n",
    "    return table[n][summ]\n",
    "\n",
    "\n",
    "if __name__=='__main__':\n",
    "    \n",
    "    subset=[int(x) for x in input('Enter the subset array: ').split() ]\n",
    "    summ=int(input('Enter sum value: '))\n",
    "    n=len(subset)\n",
    "    t=[[-1 for x in range(0,summ+1)] for x in range(0,n+1)]\n",
    "    print(subsetsum(subset,summ,n))\n",
    "    \n",
    "        \n",
    "\n"
   ]
  },
  {
   "cell_type": "code",
   "execution_count": 10,
   "metadata": {},
   "outputs": [
    {
     "name": "stdout",
     "output_type": "stream",
     "text": [
      "Enter the subset array: 3 5 77 9\n",
      "60\n"
     ]
    }
   ],
   "source": [
    "\n",
    "\n",
    "import sys\n",
    "def minsubsetsumdiff(subset,n):\n",
    "    summ=sum(subset)\n",
    "    table=[[False for x in range(0,summ+1)] for x in range(n+1)]\n",
    "    for i in range(0,n+1):\n",
    "        table[i][0]=True\n",
    "    for i in range(1,n+1):\n",
    "        for j in range(1,summ+1):\n",
    "            if subset[i-1]<=j:\n",
    "                table[i][j]=table[i-1][j-subset[i-1]] or table[i-1][j]\n",
    "            else:\n",
    "                table[i][j]=table[i-1][j]\n",
    "    mn=sys.maxsize\n",
    "    for j in range(summ//2,-1,-1):\n",
    "        if table[n][j]==True:\n",
    "            mn=summ-2*j\n",
    "            break\n",
    "    return mn\n",
    "\n",
    "\n",
    "if __name__=='__main__':\n",
    "    \n",
    "    subset=[int(x) for x in input('Enter the subset array: ').split() ]\n",
    "    n=len(subset)\n",
    "    print(minsubsetsumdiff(subset,n))\n",
    "    \n",
    "        \n",
    "\n"
   ]
  },
  {
   "cell_type": "code",
   "execution_count": 11,
   "metadata": {},
   "outputs": [
    {
     "name": "stdout",
     "output_type": "stream",
     "text": [
      "Enter the subset array: 1 1 2 3\n",
      "Enter sum difference: 1\n",
      "1\n"
     ]
    }
   ],
   "source": [
    "def subsetdiff(subset,diff,n):\n",
    "    table=[[False for x in range(0,summ+1)] for x in range(n+1)]\n",
    "    for i in range(0,n+1):\n",
    "        table[i][0]=True\n",
    "    for i in range(1,n+1):\n",
    "        for j in range(1,summ+1):\n",
    "            if subset[i-1]<=j:\n",
    "                table[i][j]=table[i-1][j-subset[i-1]]+table[i-1][j]\n",
    "            else:\n",
    "                table[i][j]=table[i-1][j]\n",
    "    \n",
    "\n",
    "\n",
    "if __name__=='__main__':\n",
    "    \n",
    "    subset=[int(x) for x in input('Enter the subset array: ').split() ]\n",
    "    summ=sum(subset)\n",
    "    diff=int(input('Enter sum difference: '))\n",
    "    n=len(subset)\n",
    "    print(subsetdiff(subset,(diff+summ)//2,n))\n",
    "    \n",
    "        \n",
    "\n"
   ]
  },
  {
   "cell_type": "code",
   "execution_count": 14,
   "metadata": {},
   "outputs": [
    {
     "name": "stdout",
     "output_type": "stream",
     "text": [
      "Enter the array: 1 1 2 3\n",
      "Enter diff value: 1\n",
      "3\n"
     ]
    }
   ],
   "source": [
    "def subsetdiff(subset,summ,n):\n",
    "    table=[[False for x in range(0,summ+1)] for x in range(n+1)]\n",
    "    for i in range(0,n+1):\n",
    "        table[i][0]=True\n",
    "    for i in range(1,n+1):\n",
    "        for j in range(1,summ+1):\n",
    "            if subset[i-1]<=j:\n",
    "                table[i][j]=table[i-1][j-subset[i-1]]+table[i-1][j]\n",
    "            else:\n",
    "                table[i][j]=table[i-1][j]\n",
    "    return table[n][summ]\n",
    "\n",
    "\n",
    "if __name__=='__main__':\n",
    "    \n",
    "    subset=[int(x) for x in input('Enter the array: ').split() ]\n",
    "    summ=sum(subset)\n",
    "    diff=int(input('Enter diff value: '))\n",
    "    n=len(subset)\n",
    "    print(subsetdiff(subset,(diff+summ)//2,n))\n",
    "    \n",
    "        \n",
    "\n"
   ]
  },
  {
   "cell_type": "code",
   "execution_count": null,
   "metadata": {},
   "outputs": [],
   "source": []
  }
 ],
 "metadata": {
  "kernelspec": {
   "display_name": "Python 3",
   "language": "python",
   "name": "python3"
  },
  "language_info": {
   "codemirror_mode": {
    "name": "ipython",
    "version": 3
   },
   "file_extension": ".py",
   "mimetype": "text/x-python",
   "name": "python",
   "nbconvert_exporter": "python",
   "pygments_lexer": "ipython3",
   "version": "3.7.4"
  }
 },
 "nbformat": 4,
 "nbformat_minor": 2
}
