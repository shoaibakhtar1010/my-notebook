{
 "cells": [
  {
   "cell_type": "code",
   "execution_count": 1,
   "metadata": {},
   "outputs": [
    {
     "name": "stdout",
     "output_type": "stream",
     "text": [
      "Enter:4\n",
      "1111\n",
      "1110\n",
      "1101\n",
      "1100\n",
      "1011\n",
      "1010\n"
     ]
    }
   ],
   "source": [
    "def nbitbinary(n,no1,no0,out):\n",
    "    if n==0:\n",
    "        print(out)\n",
    "        return\n",
    "     \n",
    "           \n",
    "    out1=out+'1'\n",
    "    nbitbinary(n-1,no1+1,no0,out1)\n",
    "    if no0<no1:\n",
    "        out2=out+'0'\n",
    "        nbitbinary(n-1,no1,no0+1,out2)\n",
    "if __name__=='__main__':\n",
    "    n=int(input('Enter:'))\n",
    "    no1=0\n",
    "    no0=0\n",
    "    out=''\n",
    "    nbitbinary(n,no1,no0,out)\n",
    "    "
   ]
  },
  {
   "cell_type": "code",
   "execution_count": null,
   "metadata": {},
   "outputs": [],
   "source": []
  }
 ],
 "metadata": {
  "kernelspec": {
   "display_name": "Python 3",
   "language": "python",
   "name": "python3"
  },
  "language_info": {
   "codemirror_mode": {
    "name": "ipython",
    "version": 3
   },
   "file_extension": ".py",
   "mimetype": "text/x-python",
   "name": "python",
   "nbconvert_exporter": "python",
   "pygments_lexer": "ipython3",
   "version": "3.7.4"
  }
 },
 "nbformat": 4,
 "nbformat_minor": 2
}
