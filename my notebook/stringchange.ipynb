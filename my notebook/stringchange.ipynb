{
 "cells": [
  {
   "cell_type": "code",
   "execution_count": 7,
   "metadata": {},
   "outputs": [],
   "source": [
    "def mah(A):\n",
    "    l=len(A)\n",
    "    nsri=[0]*l\n",
    "    tmpstack=[]\n",
    "    for i in range(l-1,-1,-1):\n",
    "        if len(tmpstack)==0:\n",
    "            nsri[i]=l\n",
    "        elif len(tmpstack)>0 and A[tmpstack[-1]]<A[i] :\n",
    "            nsri[i]=tmpstack[-1]\n",
    "        elif len(tmpstack)>0 and A[tmpstack[-1]]>=A[i] :\n",
    "            while len(tmpstack)>0 and A[tmpstack[-1]]>=A[i] :\n",
    "                tmpstack.pop()\n",
    "            if len(tmpstack)==0:\n",
    "                nsri[i]=l\n",
    "            else:\n",
    "                nsri[i]=tmpstack[-1]\n",
    "        tmpstack.append(i)\n",
    "    return nsri "
   ]
  },
  {
   "cell_type": "code",
   "execution_count": 8,
   "metadata": {},
   "outputs": [
    {
     "data": {
      "text/plain": [
       "[1, 5, 3, 5, 5, 7, 7]"
      ]
     },
     "execution_count": 8,
     "metadata": {},
     "output_type": "execute_result"
    }
   ],
   "source": [
    "mah([6,2,5,4,5,1,6])"
   ]
  },
  {
   "cell_type": "code",
   "execution_count": 10,
   "metadata": {},
   "outputs": [
    {
     "name": "stdout",
     "output_type": "stream",
     "text": [
      "Enter Number23\n",
      "37\n"
     ]
    }
   ],
   "source": [
    "def sweet(num):\n",
    "    l=len(num)\n",
    "    j=num[::-1]\n",
    "    dec=0\n",
    "    d={'0':0,'1':1,'2':2,'3':3,'4':4,'5':5,'6':6,'7':7,'8':8,'9':9,'A':10,'B':11,'C':12,'D':13,'E':14,'F':15,'G':16}\n",
    "    for k in range(0,l):\n",
    "        p=j[k]\n",
    "        dec=dec+d[p]*(17**(k))\n",
    "    print(dec)\n",
    "if __name__=='__main__':\n",
    "    num=input('Enter Number')\n",
    "    sweet(num)\n",
    "                 "
   ]
  },
  {
   "cell_type": "code",
   "execution_count": 16,
   "metadata": {},
   "outputs": [],
   "source": [
    "k=1234"
   ]
  },
  {
   "cell_type": "code",
   "execution_count": 17,
   "metadata": {},
   "outputs": [
    {
     "ename": "TypeError",
     "evalue": "'int' object is not subscriptable",
     "output_type": "error",
     "traceback": [
      "\u001b[1;31m---------------------------------------------------------------------------\u001b[0m",
      "\u001b[1;31mTypeError\u001b[0m                                 Traceback (most recent call last)",
      "\u001b[1;32m<ipython-input-17-9bf32e058f9c>\u001b[0m in \u001b[0;36m<module>\u001b[1;34m\u001b[0m\n\u001b[1;32m----> 1\u001b[1;33m \u001b[0mint\u001b[0m\u001b[1;33m(\u001b[0m\u001b[0mk\u001b[0m\u001b[1;33m[\u001b[0m\u001b[1;36m0\u001b[0m\u001b[1;33m]\u001b[0m\u001b[1;33m)\u001b[0m\u001b[1;33m+\u001b[0m\u001b[0mint\u001b[0m\u001b[1;33m(\u001b[0m\u001b[0mk\u001b[0m\u001b[1;33m[\u001b[0m\u001b[1;36m1\u001b[0m\u001b[1;33m]\u001b[0m\u001b[1;33m)\u001b[0m\u001b[1;33m\u001b[0m\u001b[1;33m\u001b[0m\u001b[0m\n\u001b[0m",
      "\u001b[1;31mTypeError\u001b[0m: 'int' object is not subscriptable"
     ]
    }
   ],
   "source": [
    "int(k[0])+int(k[1])"
   ]
  },
  {
   "cell_type": "code",
   "execution_count": 33,
   "metadata": {},
   "outputs": [
    {
     "name": "stdout",
     "output_type": "stream",
     "text": [
      "enter number:9834698765123\n",
      "1\n"
     ]
    }
   ],
   "source": [
    "def sum_diff(num):\n",
    "    odd=0\n",
    "    even=0\n",
    "    for i in range(0,l,2):\n",
    "        odd=odd+int(num[i])\n",
    "    for j in range(1,l,2):\n",
    "        even=even+int(num[j])\n",
    "    print(abs(even-odd)) \n",
    "        \n",
    "    \n",
    "    \n",
    "if __name__=='__main__':\n",
    "    num=input('enter number:')\n",
    "    l=len(num)\n",
    "    \n",
    "    sum_diff(num)"
   ]
  },
  {
   "cell_type": "code",
   "execution_count": 37,
   "metadata": {},
   "outputs": [],
   "source": [
    "\n",
    "def funk(inp):\n",
    "    a=[ 'break', 'case', 'continue', 'default', 'defer', 'else', 'for', 'func', 'goto', 'if', 'map', 'range', 'return', 'struct', 'type', 'var']\n",
    "    if inp in a:\n",
    "        print(f'{inp} is keyword')\n",
    "    else:\n",
    "        print(f'{inp} is not keyword')\n",
    "        "
   ]
  },
  {
   "cell_type": "code",
   "execution_count": 40,
   "metadata": {},
   "outputs": [
    {
     "name": "stdout",
     "output_type": "stream",
     "text": [
      "brea is not keyword\n"
     ]
    }
   ],
   "source": [
    "funk('brea')"
   ]
  },
  {
   "cell_type": "code",
   "execution_count": 47,
   "metadata": {},
   "outputs": [],
   "source": [
    "def series(n):\n",
    "    odd=1\n",
    "    even=1\n",
    "    for i in range(2,n+1,2):\n",
    "        odd=odd*2\n",
    "    for j in range(4,n+1,2):\n",
    "        even=even*3\n",
    "    if n%2!=0:\n",
    "        print(odd)\n",
    "    else:\n",
    "        print(even)\n"
   ]
  },
  {
   "cell_type": "code",
   "execution_count": 49,
   "metadata": {},
   "outputs": [
    {
     "name": "stdout",
     "output_type": "stream",
     "text": [
      "128\n"
     ]
    }
   ],
   "source": [
    "series(15)"
   ]
  },
  {
   "cell_type": "code",
   "execution_count": 43,
   "metadata": {},
   "outputs": [
    {
     "data": {
      "text/plain": [
       "0"
      ]
     },
     "execution_count": 43,
     "metadata": {},
     "output_type": "execute_result"
    }
   ],
   "source": [
    "even"
   ]
  },
  {
   "cell_type": "code",
   "execution_count": 50,
   "metadata": {},
   "outputs": [
    {
     "data": {
      "text/plain": [
       "'h@w'"
      ]
     },
     "execution_count": 50,
     "metadata": {},
     "output_type": "execute_result"
    }
   ],
   "source": [
    "inp1='how'\n",
    "\n",
    "inp1.replace('o','@')"
   ]
  },
  {
   "cell_type": "code",
   "execution_count": 59,
   "metadata": {},
   "outputs": [
    {
     "data": {
      "text/plain": [
       "['a',\n",
       " 'b',\n",
       " 'c',\n",
       " 'd',\n",
       " 'e',\n",
       " 'f',\n",
       " 'g',\n",
       " 'h',\n",
       " 'i',\n",
       " 'j',\n",
       " 'k',\n",
       " 'l',\n",
       " 'm',\n",
       " 'n',\n",
       " 'o',\n",
       " 'p',\n",
       " 'q',\n",
       " 'r',\n",
       " 's',\n",
       " 't',\n",
       " 'u',\n",
       " 'v',\n",
       " 'w',\n",
       " 'x',\n",
       " 'y',\n",
       " 'z',\n",
       " 'A',\n",
       " 'B',\n",
       " 'C',\n",
       " 'D',\n",
       " 'E',\n",
       " 'F',\n",
       " 'G',\n",
       " 'H',\n",
       " 'I',\n",
       " 'J',\n",
       " 'K',\n",
       " 'L',\n",
       " 'M',\n",
       " 'N',\n",
       " 'O',\n",
       " 'P',\n",
       " 'Q',\n",
       " 'R',\n",
       " 'S',\n",
       " 'T',\n",
       " 'U',\n",
       " 'V',\n",
       " 'W',\n",
       " 'X',\n",
       " 'Y',\n",
       " 'Z']"
      ]
     },
     "execution_count": 59,
     "metadata": {},
     "output_type": "execute_result"
    }
   ],
   "source": [
    "import string\n",
    "list(string.ascii_letters)"
   ]
  },
  {
   "cell_type": "code",
   "execution_count": 70,
   "metadata": {},
   "outputs": [
    {
     "name": "stdout",
     "output_type": "stream",
     "text": [
      "Enter 1st: how\n",
      "Enter 2nd: 999\n",
      "Enter 3rd: you\n",
      "h*w999YOU\n"
     ]
    }
   ],
   "source": [
    "import string\n",
    "inp1=input('Enter 1st: ')\n",
    "inp2=input('Enter 2nd: ')\n",
    "inp3=input('Enter 3rd: ')\n",
    "vowels=list('AEIOUaeiou')\n",
    "for i in range(0,len(inp1)):\n",
    "    if inp1[i] in vowels:\n",
    "        inp1=inp1.replace(inp1[i],'*')\n",
    "for j in range(0,len(inp2)):\n",
    "    if inp2[j] in list(string.ascii_letters):\n",
    "        if inp2[j] in vowels:\n",
    "            pass\n",
    "        else:\n",
    "            inp2=inp2.replace(inp2[j],'@')\n",
    "inp3=inp3.upper()\n",
    "print(inp1+inp2+inp3)"
   ]
  },
  {
   "cell_type": "code",
   "execution_count": 62,
   "metadata": {},
   "outputs": [
    {
     "data": {
      "text/plain": [
       "['A', 'E', 'I', 'O', 'U', 'a', 'e', 'i', 'o', 'u']"
      ]
     },
     "execution_count": 62,
     "metadata": {},
     "output_type": "execute_result"
    }
   ],
   "source": [
    "vowels"
   ]
  },
  {
   "cell_type": "code",
   "execution_count": 71,
   "metadata": {},
   "outputs": [
    {
     "name": "stdout",
     "output_type": "stream",
     "text": [
      "Enter 1st: how\n",
      "Enter 2nd: are\n",
      "Enter 3rd: you\n",
      "h*wa@eYOU\n"
     ]
    }
   ],
   "source": [
    "import string\n",
    "inp1=input('Enter 1st: ')\n",
    "inp2=input('Enter 2nd: ')\n",
    "inp3=input('Enter 3rd: ')\n",
    "vowels=list('AEIOUaeiou')\n",
    "for i in inp1:\n",
    "    if i in vowels:\n",
    "        inp1=inp1.replace(i,'*')\n",
    "for j in inp2:\n",
    "    if j in list(string.ascii_letters):\n",
    "        if j in vowels:\n",
    "            pass\n",
    "        else:\n",
    "            inp2=inp2.replace(j,'@')\n",
    "inp3=inp3.upper()\n",
    "print(inp1+inp2+inp3)"
   ]
  },
  {
   "cell_type": "code",
   "execution_count": null,
   "metadata": {},
   "outputs": [],
   "source": []
  }
 ],
 "metadata": {
  "kernelspec": {
   "display_name": "Python 3",
   "language": "python",
   "name": "python3"
  },
  "language_info": {
   "codemirror_mode": {
    "name": "ipython",
    "version": 3
   },
   "file_extension": ".py",
   "mimetype": "text/x-python",
   "name": "python",
   "nbconvert_exporter": "python",
   "pygments_lexer": "ipython3",
   "version": "3.7.4"
  }
 },
 "nbformat": 4,
 "nbformat_minor": 2
}
