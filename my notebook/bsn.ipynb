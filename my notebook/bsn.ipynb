{
 "cells": [
  {
   "cell_type": "code",
   "execution_count": null,
   "metadata": {},
   "outputs": [],
   "source": [
    "def binary_searchnearly(A,ele):\n",
    "    start=0\n",
    "    end=len(A)-1\n",
    "    while start<=end:\n",
    "        mid=start+(end-start)//2\n",
    "        if A[mid]==ele:\n",
    "            return mid\n",
    "            break\n",
    "        elif A[mid-1]==ele:\n",
    "            return mid-1\n",
    "            break\n",
    "        elif A[mid+1]==ele:\n",
    "            return mid+1\n",
    "            break\n",
    "        elif A[mid]<ele:\n",
    "            start=mid+2\n",
    "        else:\n",
    "            end=mid-2\n",
    "    return -1\n"
   ]
  },
  {
   "cell_type": "code",
   "execution_count": null,
   "metadata": {},
   "outputs": [],
   "source": [
    "binary_searchnearly([10,30,20,40],30)"
   ]
  },
  {
   "cell_type": "code",
   "execution_count": 14,
   "metadata": {},
   "outputs": [],
   "source": [
    "def ceil(A,ele):\n",
    "    start=0\n",
    "    end=len(A)-1\n",
    "    res=-1\n",
    "    while start<=end:\n",
    "        mid=start+(end-start)//2\n",
    "        if A[mid]==ele:\n",
    "            return A[mid]\n",
    "            \n",
    "        elif A[mid]>ele:\n",
    "            res=A[mid]\n",
    "            end=mid-1\n",
    "        else:\n",
    "            \n",
    "            start=mid+1\n",
    "    return res\n",
    "  "
   ]
  },
  {
   "cell_type": "code",
   "execution_count": 15,
   "metadata": {},
   "outputs": [
    {
     "data": {
      "text/plain": [
       "-1"
      ]
     },
     "execution_count": 15,
     "metadata": {},
     "output_type": "execute_result"
    }
   ],
   "source": [
    "ceil([1,2,4,6,8,9,10],11)"
   ]
  },
  {
   "cell_type": "code",
   "execution_count": null,
   "metadata": {},
   "outputs": [],
   "source": [
    "min(k)"
   ]
  },
  {
   "cell_type": "code",
   "execution_count": null,
   "metadata": {},
   "outputs": [],
   "source": []
  },
  {
   "cell_type": "code",
   "execution_count": null,
   "metadata": {},
   "outputs": [],
   "source": []
  },
  {
   "cell_type": "code",
   "execution_count": 3,
   "metadata": {},
   "outputs": [],
   "source": [
    "def floor(A,ele):\n",
    "    start=0\n",
    "    end=len(A)-1\n",
    "    while start<=end:\n",
    "        mid=start+(end-start)//2\n",
    "        if A[mid]==ele:\n",
    "            return A[mid]\n",
    "            \n",
    "        elif A[mid]<ele:\n",
    "            res=A[mid]\n",
    "            start=mid+1\n",
    "        else:\n",
    "            end=mid-1\n",
    "            \n",
    "    return res"
   ]
  },
  {
   "cell_type": "code",
   "execution_count": 6,
   "metadata": {},
   "outputs": [
    {
     "data": {
      "text/plain": [
       "4"
      ]
     },
     "execution_count": 6,
     "metadata": {},
     "output_type": "execute_result"
    }
   ],
   "source": [
    "floor([1,2,4,6,8,9,10],5)"
   ]
  },
  {
   "cell_type": "code",
   "execution_count": null,
   "metadata": {},
   "outputs": [],
   "source": []
  }
 ],
 "metadata": {
  "kernelspec": {
   "display_name": "Python 3",
   "language": "python",
   "name": "python3"
  },
  "language_info": {
   "codemirror_mode": {
    "name": "ipython",
    "version": 3
   },
   "file_extension": ".py",
   "mimetype": "text/x-python",
   "name": "python",
   "nbconvert_exporter": "python",
   "pygments_lexer": "ipython3",
   "version": "3.7.4"
  }
 },
 "nbformat": 4,
 "nbformat_minor": 2
}
