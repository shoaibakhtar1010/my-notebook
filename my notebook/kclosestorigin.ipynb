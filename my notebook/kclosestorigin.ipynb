{
 "cells": [
  {
   "cell_type": "code",
   "execution_count": null,
   "metadata": {},
   "outputs": [],
   "source": [
    "def k_thsmallest(A,k):\n",
    "    if k>len(A):\n",
    "        return -1\n",
    "    l=len(A)\n",
    "    lis=[]\n",
    "    import heapq\n",
    "    for i in range(0,l):\n",
    "        heapq.heappush(lis,-1*A[i])\n",
    "        if len(lis)>k:\n",
    "            heapq.heappop(lis)\n",
    "            \n",
    "    return -1*lis[0]"
   ]
  },
  {
   "cell_type": "code",
   "execution_count": null,
   "metadata": {},
   "outputs": [],
   "source": [
    "k_thsmallest([7,10,4,3,20,15],3)"
   ]
  },
  {
   "cell_type": "markdown",
   "metadata": {},
   "source": [
    "#maxheap whenever we need to find smallest "
   ]
  },
  {
   "cell_type": "markdown",
   "metadata": {},
   "source": [
    "#because maxheap stores thevalue"
   ]
  },
  {
   "cell_type": "markdown",
   "metadata": {},
   "source": [
    "kmkmkm"
   ]
  },
  {
   "cell_type": "code",
   "execution_count": null,
   "metadata": {},
   "outputs": [],
   "source": [
    "def k_largest(A,k):\n",
    "    if k>len(A):\n",
    "        return -1\n",
    "    l=len(A)\n",
    "    lis=[]\n",
    "    import heapq\n",
    "    for i in range(0,l):\n",
    "        heapq.heappush(lis,A[i])\n",
    "        if len(lis)>k:\n",
    "            heapq.heappop(lis)\n",
    "            \n",
    "    return lis\n",
    "    "
   ]
  },
  {
   "cell_type": "code",
   "execution_count": null,
   "metadata": {},
   "outputs": [],
   "source": [
    "k_largest([7,10,4,3,20,15],6)"
   ]
  },
  {
   "cell_type": "code",
   "execution_count": null,
   "metadata": {},
   "outputs": [],
   "source": [
    "def k_sorted(A,k):\n",
    "    import heapq\n",
    "    #Asc order\n",
    "    l=len(A)\n",
    "    lis=A[:k+1]\n",
    "    sort=[]\n",
    "    heapq.heapify(lis)\n",
    "    for i in range(k+1,l):\n",
    "        heapq.heappush(lis,A[i])\n",
    "        if len(lis)>k+1:\n",
    "            sort.append(heapqheappop(lis))\n",
    "            \n",
    "        "
   ]
  },
  {
   "cell_type": "code",
   "execution_count": null,
   "metadata": {},
   "outputs": [],
   "source": [
    "def k_closest(A,x,k):\n",
    "    import heapq\n",
    "    l=len(A)\n",
    "    if len(A)<k:\n",
    "        return -1\n",
    "    lis=[]\n",
    "    for i in range(0,l):\n",
    "        heapq.heappush(lis,((abs(A[i])-x),A[i]))\n",
    "        if len(lis)>k:\n",
    "            heapq.heappop(lis)\n",
    "    return  [listr[1] for listr in lis]"
   ]
  },
  {
   "cell_type": "code",
   "execution_count": null,
   "metadata": {},
   "outputs": [],
   "source": [
    "k_closest([1,3,5,6,7,8,9],6,4)"
   ]
  },
  {
   "cell_type": "code",
   "execution_count": null,
   "metadata": {},
   "outputs": [],
   "source": [
    "def kclosest(A,x,k):\n",
    "    from heapq_max import heapify_max,heappush_max,heappop_max\n",
    "    lis=[]\n",
    "    l=len(A)\n",
    "   \n",
    "    for i in range(0,l):\n",
    "        heappush_max(lis,(abs(A[i]-x),A[i]))\n",
    "        if len(lis)>k:\n",
    "            heappop_max(lis)\n",
    "    #while len(lis)>0:\n",
    "     #   print(heappop_max(lis)[1])\n",
    "    return [listr[1] for listr in lis]"
   ]
  },
  {
   "cell_type": "code",
   "execution_count": null,
   "metadata": {},
   "outputs": [],
   "source": [
    "kclosest([1,3,5,6,7,8,9],6,4)"
   ]
  },
  {
   "cell_type": "code",
   "execution_count": 68,
   "metadata": {},
   "outputs": [],
   "source": [
    "def k_frequent(A,k):\n",
    "    d={}\n",
    "    lis=[]\n",
    "    l=len(A)\n",
    "    \n",
    "    for j in A:\n",
    "        if j in d:\n",
    "            d[j]=d[j]+1\n",
    "        else:\n",
    "            d[j]=1\n",
    "        \n",
    "    import heapq\n",
    "    for key,value in d.items():\n",
    "        heapq.heappush(lis,(value,key))\n",
    "        if len(lis)>k:\n",
    "            heapq.heappop(lis)\n",
    "    return [l[1] for l in lis]\n",
    "   \n",
    "\n",
    "\n",
    "\n"
   ]
  },
  {
   "cell_type": "code",
   "execution_count": 69,
   "metadata": {},
   "outputs": [
    {
     "data": {
      "text/plain": [
       "[1, 4]"
      ]
     },
     "execution_count": 69,
     "metadata": {},
     "output_type": "execute_result"
    }
   ],
   "source": [
    "k_frequent([1,1,1,1,2,2,2,3,4,4,4,4,4,5,5,6],2)"
   ]
  },
  {
   "cell_type": "code",
   "execution_count": 7,
   "metadata": {},
   "outputs": [],
   "source": [
    "m={1: 3, 2: 3, 3: 1, 4: 2, 5: 2, 6: 1}"
   ]
  },
  {
   "cell_type": "code",
   "execution_count": 13,
   "metadata": {},
   "outputs": [
    {
     "data": {
      "text/plain": [
       "[3, 3, 1, 2, 2, 1]"
      ]
     },
     "execution_count": 13,
     "metadata": {},
     "output_type": "execute_result"
    }
   ],
   "source": [
    "list(m.values())"
   ]
  },
  {
   "cell_type": "code",
   "execution_count": 66,
   "metadata": {},
   "outputs": [],
   "source": [
    "def kfrequent(A,k):\n",
    "    \n",
    "    lis=[]\n",
    "    l=len(A)\n",
    "    ans=[]\n",
    "    import collections\n",
    "    d=collections.Counter(A)\n",
    "    import heapq_max\n",
    "    for key,value in d.items():\n",
    "        heapq_max.heappush_max(lis,(value,key))\n",
    "    while len(lis)>0:\n",
    "        ans=ans+[lis[0][1]]*lis[0][0]\n",
    "        heapq_max.heappop_max(lis)\n",
    "    return ans\n",
    "        \n"
   ]
  },
  {
   "cell_type": "code",
   "execution_count": 67,
   "metadata": {},
   "outputs": [
    {
     "data": {
      "text/plain": [
       "[4, 4, 4, 4, 4, 1, 1, 1, 1, 2, 2, 2, 5, 5, 6, 3]"
      ]
     },
     "execution_count": 67,
     "metadata": {},
     "output_type": "execute_result"
    }
   ],
   "source": [
    "kfrequent([1,1,1,1,2,2,2,3,4,4,4,4,4,5,5,6],5)"
   ]
  },
  {
   "cell_type": "code",
   "execution_count": 77,
   "metadata": {},
   "outputs": [],
   "source": [
    "def k_closest_origin(A,k):\n",
    "    lis=[]\n",
    "    l=len(A)\n",
    "    from heapq_max import heappop_max,heappush_max\n",
    "    for i in range(0,l):\n",
    "        heappush_max(lis,[A[i][0]**2+A[i][1]**2,A[i][0],A[i][1]])\n",
    "        if len(lis)>k:\n",
    "            heappop_max(lis)\n",
    "    return [(li[1],li[2])for li in lis]\n",
    "        \n",
    "        "
   ]
  },
  {
   "cell_type": "code",
   "execution_count": 78,
   "metadata": {},
   "outputs": [
    {
     "data": {
      "text/plain": [
       "[(-2, 2)]"
      ]
     },
     "execution_count": 78,
     "metadata": {},
     "output_type": "execute_result"
    }
   ],
   "source": [
    "point = [[1, 3], [-2, 2]]\n",
    "k_closest_origin(point,1)"
   ]
  },
  {
   "cell_type": "code",
   "execution_count": null,
   "metadata": {},
   "outputs": [],
   "source": []
  }
 ],
 "metadata": {
  "kernelspec": {
   "display_name": "Python 3",
   "language": "python",
   "name": "python3"
  },
  "language_info": {
   "codemirror_mode": {
    "name": "ipython",
    "version": 3
   },
   "file_extension": ".py",
   "mimetype": "text/x-python",
   "name": "python",
   "nbconvert_exporter": "python",
   "pygments_lexer": "ipython3",
   "version": "3.7.4"
  }
 },
 "nbformat": 4,
 "nbformat_minor": 2
}
