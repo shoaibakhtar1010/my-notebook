{
 "cells": [
  {
   "cell_type": "code",
   "execution_count": 11,
   "metadata": {},
   "outputs": [],
   "source": [
    "def RWT(A):\n",
    "    l=len(A)\n",
    "    maxR=[0]*l\n",
    "    maxL=[0]*l\n",
    "    maxR[l-1]=A[l-1]\n",
    "    maxL[0]=A[0]\n",
    "    for i in range(1,l):\n",
    "        maxL[i]=max(maxL[i-1],A[i])\n",
    "    for j in range(l-2,-1,-1):\n",
    "        maxR[j]=max(maxR[j],maxR[j+1])\n",
    "    water=[0]*l\n",
    "    for k in range(0,l):\n",
    "        water[k]=min(maxR[k],maxL[k])-A[k]\n",
    "    \n",
    "    return sum(water)"
   ]
  },
  {
   "cell_type": "code",
   "execution_count": 12,
   "metadata": {},
   "outputs": [
    {
     "data": {
      "text/plain": [
       "9"
      ]
     },
     "execution_count": 12,
     "metadata": {},
     "output_type": "execute_result"
    }
   ],
   "source": [
    "RWT([3,0,0,2,0,4])"
   ]
  },
  {
   "cell_type": "code",
   "execution_count": null,
   "metadata": {},
   "outputs": [],
   "source": []
  }
 ],
 "metadata": {
  "kernelspec": {
   "display_name": "Python 3",
   "language": "python",
   "name": "python3"
  },
  "language_info": {
   "codemirror_mode": {
    "name": "ipython",
    "version": 3
   },
   "file_extension": ".py",
   "mimetype": "text/x-python",
   "name": "python",
   "nbconvert_exporter": "python",
   "pygments_lexer": "ipython3",
   "version": "3.7.4"
  }
 },
 "nbformat": 4,
 "nbformat_minor": 2
}
