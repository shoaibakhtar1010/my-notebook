{
 "cells": [
  {
   "cell_type": "code",
   "execution_count": null,
   "metadata": {},
   "outputs": [],
   "source": [
    " K = [[False for x in range(6)] for x in range(7)] "
   ]
  },
  {
   "cell_type": "code",
   "execution_count": null,
   "metadata": {},
   "outputs": [],
   "source": [
    "K = [[False for x in range(6)] for x in range(7)] "
   ]
  },
  {
   "cell_type": "code",
   "execution_count": 25,
   "metadata": {},
   "outputs": [],
   "source": [
    "def equal_parti(arr):\n",
    "    n=len(arr)\n",
    "    k=sum(arr)\n",
    "    if k%2!=0:\n",
    "        return False\n",
    "    else:\n",
    "        return isSubsetSum(arr,n,k//2)\n",
    "def isSubsetSum(arr,n,k): \n",
    "      \n",
    "    # The value of subset[i][j] will be  \n",
    "    # true if there is a \n",
    "    # subset of set[0..j-1] with sum equal to i \n",
    "    \n",
    "    subset =([[False for i in range(k + 1)]  \n",
    "            for i in range(n + 1)]) \n",
    "      \n",
    "    # If sum is 0, then answer is true  \n",
    "    for i in range(n + 1): \n",
    "        subset[i][0] = True\n",
    "          \n",
    "    # If sum is not 0 and set is empty,  \n",
    "    # then answer is false  \n",
    "    for i in range(1, k + 1): \n",
    "         subset[0][i]= False\n",
    "              \n",
    "    # Fill the subset table in botton up manner \n",
    "    for i in range(1, n + 1): \n",
    "        for j in range(1, k + 1): \n",
    "            if j<arr[i-1]: \n",
    "                subset[i][j] = subset[i-1][j] \n",
    "            if j>= arr[i-1]: \n",
    "                subset[i][j] = (subset[i-1][j] or \n",
    "                                subset[i - 1][j-arr[i-1]]) \n",
    "      \n",
    "    # uncomment this code to print table  \n",
    "    # for i in range(n + 1): \n",
    "    # for j in range(sum + 1): \n",
    "    # print (subset[i][j], end =\" \") \n",
    "    # print() \n",
    "    return subset[n][k] \n",
    "\n",
    "    "
   ]
  },
  {
   "cell_type": "code",
   "execution_count": 26,
   "metadata": {},
   "outputs": [
    {
     "data": {
      "text/plain": [
       "False"
      ]
     },
     "execution_count": 26,
     "metadata": {},
     "output_type": "execute_result"
    }
   ],
   "source": [
    "k = [1, 34, 4, 12, 5, 2,8,6,76] \n",
    "equal_parti(k) "
   ]
  },
  {
   "cell_type": "code",
   "execution_count": null,
   "metadata": {},
   "outputs": [],
   "source": [
    "k = [3, 34, 4, 12, 5, 2] "
   ]
  },
  {
   "cell_type": "code",
   "execution_count": null,
   "metadata": {},
   "outputs": [],
   "source": [
    "sum(k)"
   ]
  },
  {
   "cell_type": "code",
   "execution_count": null,
   "metadata": {},
   "outputs": [],
   "source": [
    "m=[1,2,3,4]"
   ]
  },
  {
   "cell_type": "code",
   "execution_count": null,
   "metadata": {},
   "outputs": [],
   "source": [
    "sum(m)"
   ]
  },
  {
   "cell_type": "code",
   "execution_count": null,
   "metadata": {},
   "outputs": [],
   "source": [
    "a=[1,2,3]\n",
    "sum(a)"
   ]
  },
  {
   "cell_type": "code",
   "execution_count": 14,
   "metadata": {},
   "outputs": [],
   "source": [
    "k=34//2"
   ]
  },
  {
   "cell_type": "code",
   "execution_count": 15,
   "metadata": {},
   "outputs": [
    {
     "data": {
      "text/plain": [
       "int"
      ]
     },
     "execution_count": 15,
     "metadata": {},
     "output_type": "execute_result"
    }
   ],
   "source": [
    "type(k)"
   ]
  },
  {
   "cell_type": "code",
   "execution_count": 28,
   "metadata": {},
   "outputs": [],
   "source": [
    "def isSubsetSum(arr,n,k): \n",
    "      \n",
    "    # The value of subset[i][j] will be  \n",
    "    # true if there is a \n",
    "    # subset of set[0..j-1] with sum equal to i \n",
    "    \n",
    "    subset =([[False for i in range(k + 1)]  \n",
    "            for i in range(n + 1)]) \n",
    "      \n",
    "    # If sum is 0, then answer is true  \n",
    "    for i in range(n + 1): \n",
    "        subset[i][0] = True\n",
    "          \n",
    "    # If sum is not 0 and set is empty,  \n",
    "    # then answer is false  \n",
    "    for i in range(1, k + 1): \n",
    "         subset[0][i]= False\n",
    "              \n",
    "    # Fill the subset table in botton up manner \n",
    "    for i in range(1, n + 1): \n",
    "        for j in range(1, k + 1): \n",
    "            if j<arr[i-1]: \n",
    "                subset[i][j] = subset[i-1][j] \n",
    "            if j>= arr[i-1]: \n",
    "                subset[i][j] = (subset[i-1][j]+subset[i - 1][j-arr[i-1]]) \n",
    "      \n",
    "    # uncomment this code to print table  \n",
    "    # for i in range(n + 1): \n",
    "    # for j in range(sum + 1): \n",
    "    # print (subset[i][j], end =\" \") \n",
    "    # print() \n",
    "    return subset[n][k] \n"
   ]
  },
  {
   "cell_type": "code",
   "execution_count": 34,
   "metadata": {},
   "outputs": [
    {
     "data": {
      "text/plain": [
       "2"
      ]
     },
     "execution_count": 34,
     "metadata": {},
     "output_type": "execute_result"
    }
   ],
   "source": [
    "isSubsetSum([1,2,3,4],4,6)"
   ]
  },
  {
   "cell_type": "code",
   "execution_count": 39,
   "metadata": {},
   "outputs": [
    {
     "name": "stdout",
     "output_type": "stream",
     "text": [
      "2.0\n"
     ]
    }
   ],
   "source": [
    "# Python3 implementation of the approach \n",
    "import numpy as np \n",
    "\n",
    "maxN = 20\n",
    "maxSum = 50\n",
    "minSum = 50\n",
    "base = 50\n",
    "\n",
    "# To store the states of DP \n",
    "dp = np.zeros((maxN, maxSum + minSum)); \n",
    "v = np.zeros((maxN, maxSum + minSum)); \n",
    "\n",
    "# Function to return the required count \n",
    "def findCnt(arr, i, required_sum, n) : \n",
    "\n",
    "\t# Base case \n",
    "\tif (i == n) : \n",
    "\t\tif (required_sum == 0) : \n",
    "\t\t\treturn 1; \n",
    "\t\telse : \n",
    "\t\t\treturn 0; \n",
    "\n",
    "\t# If the state has been solved before \n",
    "\t# return the value of the state \n",
    "\tif (v[i][required_sum + base]) : \n",
    "\t\treturn dp[i][required_sum + base]; \n",
    "\n",
    "\t# Setting the state as solved \n",
    "\tv[i][required_sum + base] = 1; \n",
    "\n",
    "\t# Recurrence relation \n",
    "\tdp[i][required_sum + base] = findCnt(arr, i + 1,  required_sum, n) + findCnt(arr, i + 1, required_sum - arr[i], n);  \n",
    "      \n",
    "\t\n",
    "\treturn dp[i][required_sum + base]; \n",
    "\n",
    "# Driver code \n",
    "if __name__ == \"__main__\" : \n",
    "\n",
    "\tarr = [ 1,2,3,4 ]; \n",
    "\tn = len(arr); \n",
    "\tx = 6; \n",
    "\n",
    "\tprint(findCnt(arr, 0, x, n)); \n",
    "\n",
    "# This code is contributed by AnkitRai01 \n"
   ]
  },
  {
   "cell_type": "code",
   "execution_count": null,
   "metadata": {},
   "outputs": [],
   "source": []
  }
 ],
 "metadata": {
  "kernelspec": {
   "display_name": "Python 3",
   "language": "python",
   "name": "python3"
  },
  "language_info": {
   "codemirror_mode": {
    "name": "ipython",
    "version": 3
   },
   "file_extension": ".py",
   "mimetype": "text/x-python",
   "name": "python",
   "nbconvert_exporter": "python",
   "pygments_lexer": "ipython3",
   "version": "3.7.4"
  }
 },
 "nbformat": 4,
 "nbformat_minor": 2
}
