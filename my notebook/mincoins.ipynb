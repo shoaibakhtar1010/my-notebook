{
 "cells": [
  {
   "cell_type": "code",
   "execution_count": 1,
   "metadata": {},
   "outputs": [
    {
     "name": "stdout",
     "output_type": "stream",
     "text": [
      "$$$$$$$$$$This is program to find max no of ways to compute the change$$$$$$$$$$$$\n",
      "Enter the coin values: 1 2 3\n",
      "Enter the sum value: 5\n",
      "5.0\n"
     ]
    }
   ],
   "source": [
    "def max_coin_change(coins,sum1):\n",
    "    N=len(coins)\n",
    "    import numpy as np\n",
    "    k=np.zeros((N+1,sum1+1))\n",
    "    for i in range(0,N+1):\n",
    "        k[i][0]=1\n",
    "    for i in range(1,N+1):\n",
    "        for j in range(1,sum1+1):\n",
    "            if coins[i-1]<=j:\n",
    "                k[i][j]=k[i][j-coins[i-1]]+k[i-1][j]\n",
    "            else:\n",
    "                k[i][j]=k[i-1][j]\n",
    "    return k[N][sum1]\n",
    "\n",
    "\n",
    "if __name__=='__main__':\n",
    "    print('$$$$$$$$$$This is program to find max no of ways to compute the change$$$$$$$$$$$$')\n",
    "    coins=[int(x) for x in input('Enter the coin values: ').split()]\n",
    "    sum1=int(input('Enter the sum value: '))\n",
    "    print(max_coin_change(coins,sum1))"
   ]
  },
  {
   "cell_type": "code",
   "execution_count": null,
   "metadata": {},
   "outputs": [],
   "source": [
    "max_coin_change([1,2,3],5)"
   ]
  },
  {
   "cell_type": "code",
   "execution_count": 2,
   "metadata": {},
   "outputs": [],
   "source": [
    "def min_coins(coins,sum1):\n",
    "    import sys\n",
    "    N=len(coins)\n",
    "    k=[[sys.maxsize-1 for g in range(0,sum1+1)]for g in range(0,N+1)]\n",
    "    for i in range(1,N):\n",
    "        k[i][0]=0\n",
    "    for x in range(1,sum1+1):\n",
    "        if x%coins[0]==0:\n",
    "            k[0][x]=(x//coins[0])\n",
    "        else:\n",
    "            k[0][x]=sys.maxsize-1\n",
    "    for i in range(1,N+1):\n",
    "        for j in range(1,sum1+1):\n",
    "            if coins[i-1]<=j:\n",
    "                k[i][j]=min(1+k[i][j-coins[i-1]],k[i-1][j])\n",
    "            else:\n",
    "                k[i][j]=k[i-1][j]\n",
    "    return k[N][sum1]\n",
    "            "
   ]
  },
  {
   "cell_type": "code",
   "execution_count": 5,
   "metadata": {},
   "outputs": [
    {
     "data": {
      "text/plain": [
       "2147483646"
      ]
     },
     "execution_count": 5,
     "metadata": {},
     "output_type": "execute_result"
    }
   ],
   "source": [
    "min_coins([25,10,5],4)"
   ]
  },
  {
   "cell_type": "code",
   "execution_count": null,
   "metadata": {},
   "outputs": [],
   "source": [
    " import numpy as np\n",
    "k=np.zeros((2,3))\n",
    "k"
   ]
  },
  {
   "cell_type": "code",
   "execution_count": null,
   "metadata": {},
   "outputs": [],
   "source": [
    "k=[[-1 for g in range(0,3)]for g in range(0,8+1)]\n",
    "k"
   ]
  },
  {
   "cell_type": "code",
   "execution_count": null,
   "metadata": {},
   "outputs": [],
   "source": [
    "def min_coins(coins,sum1):\n",
    "    import sys\n",
    "    N=len(coins)\n",
    "    k=[[sys.maxsize-1 for g in range(0,sum1+1)]for g in range(0,N+1)]\n",
    "    for i in range(1,N):\n",
    "        k[i][0]=0\n",
    "    for x in range(0,sum1+1):\n",
    "        if x%coins[0]==0:\n",
    "            k[1][x]=(x//coins[0])\n",
    "        else:\n",
    "            k[1][x]=sys.maxsize-1\n",
    "    for i in range(2,N+1):\n",
    "        for j in range(1,sum1+1):\n",
    "            if coins[i-1]<=j:\n",
    "                k[i][j]=min(1+k[i][j-coins[i-1]],k[i-1][j])\n",
    "            else:\n",
    "                k[i][j]=k[i-1][j]\n",
    "    return k[N][sum1]\n",
    "            "
   ]
  },
  {
   "cell_type": "code",
   "execution_count": null,
   "metadata": {},
   "outputs": [],
   "source": []
  }
 ],
 "metadata": {
  "kernelspec": {
   "display_name": "Python 3",
   "language": "python",
   "name": "python3"
  },
  "language_info": {
   "codemirror_mode": {
    "name": "ipython",
    "version": 3
   },
   "file_extension": ".py",
   "mimetype": "text/x-python",
   "name": "python",
   "nbconvert_exporter": "python",
   "pygments_lexer": "ipython3",
   "version": "3.7.4"
  }
 },
 "nbformat": 4,
 "nbformat_minor": 2
}
