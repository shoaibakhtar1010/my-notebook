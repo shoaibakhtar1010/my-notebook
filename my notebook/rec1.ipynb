{
 "cells": [
  {
   "cell_type": "code",
   "execution_count": 3,
   "metadata": {},
   "outputs": [],
   "source": [
    "def rev_arr(A):\n",
    "    #base condition is least valid input\n",
    "    if len(A)==1:\n",
    "        return A\n",
    "    temp=A[-1]\n",
    "    A.pop()\n",
    "    rev_arr(A)\n",
    "    insertA(A,temp)\n",
    "    return A\n",
    "def insertA(A,temp):\n",
    "    if len(A)==0 or A[-1]<=temp:\n",
    "        A.append(temp)\n",
    "        return A\n",
    "    val=A[-1]\n",
    "    A.pop()\n",
    "    insertA(A,temp)\n",
    "    A.append(val)\n",
    "    \n"
   ]
  },
  {
   "cell_type": "code",
   "execution_count": 5,
   "metadata": {},
   "outputs": [
    {
     "data": {
      "text/plain": [
       "[1, 2, 4]"
      ]
     },
     "execution_count": 5,
     "metadata": {},
     "output_type": "execute_result"
    }
   ],
   "source": [
    "A=[2,1,4]\n",
    "rev_arr(A)"
   ]
  },
  {
   "cell_type": "code",
   "execution_count": 59,
   "metadata": {},
   "outputs": [
    {
     "data": {
      "text/plain": [
       "[1, 2]"
      ]
     },
     "execution_count": 59,
     "metadata": {},
     "output_type": "execute_result"
    }
   ],
   "source": [
    "A\n"
   ]
  },
  {
   "cell_type": "code",
   "execution_count": null,
   "metadata": {},
   "outputs": [],
   "source": []
  }
 ],
 "metadata": {
  "kernelspec": {
   "display_name": "Python 3",
   "language": "python",
   "name": "python3"
  },
  "language_info": {
   "codemirror_mode": {
    "name": "ipython",
    "version": 3
   },
   "file_extension": ".py",
   "mimetype": "text/x-python",
   "name": "python",
   "nbconvert_exporter": "python",
   "pygments_lexer": "ipython3",
   "version": "3.7.4"
  }
 },
 "nbformat": 4,
 "nbformat_minor": 2
}
