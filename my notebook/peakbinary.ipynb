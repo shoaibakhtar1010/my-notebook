{
 "cells": [
  {
   "cell_type": "code",
   "execution_count": 1,
   "metadata": {},
   "outputs": [],
   "source": [
    "def mindiffele(A,ele):\n",
    "    start=0\n",
    "    end=len(A)-1\n",
    "    while start<=end:\n",
    "        mid=start+(end-start)//2\n",
    "        if A[mid]==ele:\n",
    "            return A[mid]\n",
    "        elif ele>A[mid]:\n",
    "            start=mid+1\n",
    "        else:\n",
    "            end=mid-1\n",
    "    if abs(A[start]-ele)<abs(A[end]-ele):\n",
    "        return A[start]\n",
    "    else:\n",
    "        return A[end]"
   ]
  },
  {
   "cell_type": "code",
   "execution_count": 4,
   "metadata": {},
   "outputs": [
    {
     "data": {
      "text/plain": [
       "10"
      ]
     },
     "execution_count": 4,
     "metadata": {},
     "output_type": "execute_result"
    }
   ],
   "source": [
    "mindiffele([1,3,8,10,13],10)"
   ]
  },
  {
   "cell_type": "code",
   "execution_count": 1,
   "metadata": {},
   "outputs": [],
   "source": [
    "def peak(A):\n",
    "    low=0\n",
    "    high=len(A)-1\n",
    "    while low<=high:\n",
    "        mid=low+(high-low)//2\n",
    "        if mid>0 and mid<len(A)-1:\n",
    "            if A[mid]>A[mid-1] and A[mid]>A[mid+1]:\n",
    "                return mid\n",
    "            elif A[mid-1]>A[mid]:\n",
    "                high=mid-1\n",
    "            else:\n",
    "                low=mid+1\n",
    "                \n",
    "        elif mid==0:\n",
    "            if A[mid]>A[mid+1]:\n",
    "                return mid\n",
    "            else:\n",
    "                return mid+1\n",
    "        elif mid==high:\n",
    "            if A[mid]>A[mid-1]:\n",
    "                return mid\n",
    "            else:\n",
    "                return mid-1\n",
    "                "
   ]
  },
  {
   "cell_type": "code",
   "execution_count": 2,
   "metadata": {},
   "outputs": [
    {
     "data": {
      "text/plain": [
       "5"
      ]
     },
     "execution_count": 2,
     "metadata": {},
     "output_type": "execute_result"
    }
   ],
   "source": [
    "peak([10,20,25,90,93,95,67])"
   ]
  },
  {
   "cell_type": "code",
   "execution_count": 4,
   "metadata": {},
   "outputs": [],
   "source": [
    "def peakA(A):\n",
    "    low=0\n",
    "    high=len(A)-1\n",
    "    while low<=high:\n",
    "        mid=low+(high-low)//2\n",
    "        if mid>0 and mid<len(A)-1:\n",
    "            if A[mid]>A[mid-1] and A[mid]>A[mid+1]:\n",
    "                return A[mid]\n",
    "            elif A[mid-1]>A[mid]:\n",
    "                high=mid-1\n",
    "            else:\n",
    "                low=mid+1\n",
    "                \n",
    "        elif mid==0:\n",
    "            if A[mid]>A[mid+1]:\n",
    "                return A[mid]\n",
    "            else:\n",
    "                return A[mid+1]\n",
    "        elif mid==high:\n",
    "            if A[mid]>A[mid-1]:\n",
    "                return A[mid]\n",
    "            else:\n",
    "                return A[mid-1]\n",
    "                "
   ]
  },
  {
   "cell_type": "code",
   "execution_count": 5,
   "metadata": {},
   "outputs": [
    {
     "data": {
      "text/plain": [
       "95"
      ]
     },
     "execution_count": 5,
     "metadata": {},
     "output_type": "execute_result"
    }
   ],
   "source": [
    "peakA([10,20,25,90,93,95,67])"
   ]
  },
  {
   "cell_type": "code",
   "execution_count": null,
   "metadata": {},
   "outputs": [],
   "source": []
  }
 ],
 "metadata": {
  "kernelspec": {
   "display_name": "Python 3",
   "language": "python",
   "name": "python3"
  },
  "language_info": {
   "codemirror_mode": {
    "name": "ipython",
    "version": 3
   },
   "file_extension": ".py",
   "mimetype": "text/x-python",
   "name": "python",
   "nbconvert_exporter": "python",
   "pygments_lexer": "ipython3",
   "version": "3.7.4"
  }
 },
 "nbformat": 4,
 "nbformat_minor": 2
}
