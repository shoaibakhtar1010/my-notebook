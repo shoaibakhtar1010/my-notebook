{
 "cells": [
  {
   "cell_type": "code",
   "execution_count": null,
   "metadata": {},
   "outputs": [],
   "source": [
    " K = [[False for x in range(6)] for x in range(7)] "
   ]
  },
  {
   "cell_type": "code",
   "execution_count": null,
   "metadata": {},
   "outputs": [],
   "source": [
    "K = [[False for x in range(6)] for x in range(7)] "
   ]
  },
  {
   "cell_type": "code",
   "execution_count": 16,
   "metadata": {},
   "outputs": [],
   "source": [
    "def equal_parti(arr):\n",
    "    n-len(arr)\n",
    "    k=sum(arr)\n",
    "    if k%2!=0:\n",
    "        return False\n",
    "    else:\n",
    "        return isSubsetSum(arr,k//2)\n",
    "def isSubsetSum(arr,k): \n",
    "      \n",
    "    # The value of subset[i][j] will be  \n",
    "    # true if there is a \n",
    "    # subset of set[0..j-1] with sum equal to i \n",
    "    n=len(arr)\n",
    "    subset =([[False for i in range(k + 1)]  \n",
    "            for i in range(n + 1)]) \n",
    "      \n",
    "    # If sum is 0, then answer is true  \n",
    "    for i in range(n + 1): \n",
    "        subset[i][0] = True\n",
    "          \n",
    "    # If sum is not 0 and set is empty,  \n",
    "    # then answer is false  \n",
    "    for i in range(1, k + 1): \n",
    "         subset[0][i]= False\n",
    "              \n",
    "    # Fill the subset table in botton up manner \n",
    "    for i in range(1, n + 1): \n",
    "        for j in range(1, k + 1): \n",
    "            if j<arr[i-1]: \n",
    "                subset[i][j] = subset[i-1][j] \n",
    "            if j>= arr[i-1]: \n",
    "                subset[i][j] = (subset[i-1][j] or \n",
    "                                subset[i - 1][j-arr[i-1]]) \n",
    "      \n",
    "    # uncomment this code to print table  \n",
    "    # for i in range(n + 1): \n",
    "    # for j in range(sum + 1): \n",
    "    # print (subset[i][j], end =\" \") \n",
    "    # print() \n",
    "    return subset[n][k] \n",
    "\n",
    "    "
   ]
  },
  {
   "cell_type": "code",
   "execution_count": 22,
   "metadata": {},
   "outputs": [
    {
     "data": {
      "text/plain": [
       "False"
      ]
     },
     "execution_count": 22,
     "metadata": {},
     "output_type": "execute_result"
    }
   ],
   "source": [
    "k = [1, 34, 4, 12, 5, 2,8,6,76] \n",
    "equal_parti(k) "
   ]
  },
  {
   "cell_type": "code",
   "execution_count": null,
   "metadata": {},
   "outputs": [],
   "source": [
    "k = [3, 34, 4, 12, 5, 2] "
   ]
  },
  {
   "cell_type": "code",
   "execution_count": null,
   "metadata": {},
   "outputs": [],
   "source": [
    "sum(k)"
   ]
  },
  {
   "cell_type": "code",
   "execution_count": null,
   "metadata": {},
   "outputs": [],
   "source": [
    "m=[1,2,3,4]"
   ]
  },
  {
   "cell_type": "code",
   "execution_count": null,
   "metadata": {},
   "outputs": [],
   "source": [
    "sum(m)"
   ]
  },
  {
   "cell_type": "code",
   "execution_count": null,
   "metadata": {},
   "outputs": [],
   "source": [
    "a=[1,2,3]\n",
    "sum(a)"
   ]
  },
  {
   "cell_type": "code",
   "execution_count": 14,
   "metadata": {},
   "outputs": [],
   "source": [
    "k=34//2"
   ]
  },
  {
   "cell_type": "code",
   "execution_count": 15,
   "metadata": {},
   "outputs": [
    {
     "data": {
      "text/plain": [
       "int"
      ]
     },
     "execution_count": 15,
     "metadata": {},
     "output_type": "execute_result"
    }
   ],
   "source": [
    "type(k)"
   ]
  },
  {
   "cell_type": "code",
   "execution_count": null,
   "metadata": {},
   "outputs": [],
   "source": []
  }
 ],
 "metadata": {
  "kernelspec": {
   "display_name": "Python 3",
   "language": "python",
   "name": "python3"
  },
  "language_info": {
   "codemirror_mode": {
    "name": "ipython",
    "version": 3
   },
   "file_extension": ".py",
   "mimetype": "text/x-python",
   "name": "python",
   "nbconvert_exporter": "python",
   "pygments_lexer": "ipython3",
   "version": "3.7.4"
  }
 },
 "nbformat": 4,
 "nbformat_minor": 2
}
