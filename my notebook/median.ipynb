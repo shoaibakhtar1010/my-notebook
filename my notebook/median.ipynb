{
 "cells": [
  {
   "cell_type": "code",
   "execution_count": 12,
   "metadata": {},
   "outputs": [
    {
     "name": "stdout",
     "output_type": "stream",
     "text": [
      "The median is : 19\n"
     ]
    }
   ],
   "source": [
    "# Python code for median with   \n",
    "# case of returning double \n",
    "# value when even number  \n",
    "# of elements are present \n",
    "# in both array combinely \n",
    "median = 0\n",
    "i = 0 \n",
    "j = 0\n",
    "   \n",
    "# def to find max \n",
    "def maximum(a, b) : \n",
    "    return a if a > b else b \n",
    "   \n",
    "# def to find minimum \n",
    "def minimum(a, b) : \n",
    "    return a if a < b else b \n",
    "   \n",
    "# def to find median \n",
    "# of two sorted arrays \n",
    "def findMedianSortedArrays(a, n, b, m) : \n",
    "  \n",
    "    global median, i, j \n",
    "    min_index = 0 \n",
    "    max_index = n  \n",
    "       \n",
    "    while (min_index <= max_index) : \n",
    "      \n",
    "        i = min_index + max_index// 2\n",
    "        j = ((n + m + 1) // 2) - i\n",
    "       \n",
    "        # if i = n, it means that  \n",
    "        # Elements from a[] in the \n",
    "        # second half is an empty  \n",
    "        # set. and if j = 0, it  \n",
    "        # means that Elements from  \n",
    "        # b[] in the first half is  \n",
    "        # an empty set. so it is  \n",
    "        # necessary to check that,  \n",
    "        # because we compare elements  \n",
    "        # from these two groups.  \n",
    "        # Searching on right \n",
    "        if (i < n and j > 0 and b[j - 1] > a[i]) : \n",
    "            min_index = i + 1\n",
    "                   \n",
    "        # if i = 0, it means that  \n",
    "        # Elements from a[] in the \n",
    "        # first half is an empty  \n",
    "        # set and if j = m, it means \n",
    "        # that Elements from b[] in  \n",
    "        # the second half is an empty  \n",
    "        # set. so it is necessary to \n",
    "        # check that, because we compare  \n",
    "        # elements from these two groups. \n",
    "        # searching on left \n",
    "        elif (i > 0 and j < m and b[j] < a[i - 1]) : \n",
    "            max_index = i - 1\n",
    "           \n",
    "        # we have found the \n",
    "        # desired halves. \n",
    "        else : \n",
    "          \n",
    "            # this condition happens when  \n",
    "            # we don't have any elements  \n",
    "            # in the first half from a[]  \n",
    "            # so we returning the last \n",
    "            # element in b[] from the  \n",
    "            # first half. \n",
    "            if (i == 0) : \n",
    "                median = b[j - 1] \n",
    "                   \n",
    "            # and this condition happens  \n",
    "            # when we don't have any  \n",
    "            # elements in the first half  \n",
    "            # from b[] so we returning the  \n",
    "            # last element in a[] from the  \n",
    "            # first half. \n",
    "            elif (j == 0) : \n",
    "                median = a[i - 1]          \n",
    "            else : \n",
    "                median = max(a[i - 1], b[j - 1])  \n",
    "            break\n",
    "          \n",
    "      \n",
    "       \n",
    "    # calculating the median. \n",
    "    # If number of elements  \n",
    "    # is odd there is  \n",
    "    # one middle element. \n",
    "   \n",
    "    if ((n + m) % 2 == 1) : \n",
    "        return median \n",
    "   \n",
    "    # Elements from a[] in the  \n",
    "    # second half is an empty set.  \n",
    "    if (i == n) : \n",
    "        return ((median + b[j]) / 2.0) \n",
    "   \n",
    "    # Elements from b[] in the  \n",
    "    # second half is an empty set. \n",
    "    if (j == m) : \n",
    "        return ((median + a[i]) / 2.0) \n",
    "       \n",
    "    return ((median + min(a[i], b[j])) / 2.0) \n",
    "  \n",
    "   \n",
    "# Driver code\n",
    "if __name__=='__main__':\n",
    "    a = [900,1000,6000,7000,9000] \n",
    "    b = [10, 13, 14,15,17,19] \n",
    "    n = len(a) \n",
    "    m = len(b) \n",
    "\n",
    "    # we need to define the  \n",
    "    # smaller array as the  \n",
    "    # first parameter to make  \n",
    "    # sure that the time complexity \n",
    "    # will be O(log(min(n,m))) \n",
    "    if (n < m) : \n",
    "        print (\"The median is : {}\".format(findMedianSortedArrays(a, n, b, m))) \n",
    "    else : \n",
    "        print(\"The median is : {}\".format(findMedianSortedArrays(b, m, a, n))) \n"
   ]
  },
  {
   "cell_type": "code",
   "execution_count": 5,
   "metadata": {},
   "outputs": [
    {
     "data": {
      "text/plain": [
       "5"
      ]
     },
     "execution_count": 5,
     "metadata": {},
     "output_type": "execute_result"
    }
   ],
   "source": [
    "min(5,5)"
   ]
  },
  {
   "cell_type": "code",
   "execution_count": null,
   "metadata": {},
   "outputs": [],
   "source": []
  }
 ],
 "metadata": {
  "kernelspec": {
   "display_name": "Python 3",
   "language": "python",
   "name": "python3"
  },
  "language_info": {
   "codemirror_mode": {
    "name": "ipython",
    "version": 3
   },
   "file_extension": ".py",
   "mimetype": "text/x-python",
   "name": "python",
   "nbconvert_exporter": "python",
   "pygments_lexer": "ipython3",
   "version": "3.7.4"
  }
 },
 "nbformat": 4,
 "nbformat_minor": 2
}
