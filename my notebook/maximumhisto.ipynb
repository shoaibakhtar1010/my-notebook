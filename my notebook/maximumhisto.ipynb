{
 "cells": [
  {
   "cell_type": "code",
   "execution_count": 39,
   "metadata": {},
   "outputs": [],
   "source": [
    "def mxahs(A):\n",
    "    nsri=[]\n",
    "    nsli=[]\n",
    "    stack=[]\n",
    "    l=len(A)\n",
    "    pr=len(A)\n",
    "    pl=-1\n",
    "    width=[]\n",
    "    Area=[]\n",
    "    for i in range(l-1,-1,-1):\n",
    "        if len(stack)==0:\n",
    "            nsri.append(pr)\n",
    "        elif A[stack[-1]]<A[i]:\n",
    "            nsri.append(stack[-1])\n",
    "        elif A[stack[-1]]>=A[i]:\n",
    "            while len(stack)>0 and A[stack[-1]]>=A[i]:\n",
    "                stack.pop()\n",
    "             \n",
    "            if len(stack)==0:\n",
    "                nsri.append(pr)\n",
    "            else:\n",
    "                nsri.append(stack[-1])\n",
    "           \n",
    "        stack.append(i)\n",
    "    nsri=nsri[::-1]\n",
    "    stack.clear()\n",
    "    for i in range(0,l):\n",
    "        if len(stack)==0:\n",
    "            nsli.append(pl)\n",
    "        elif A[stack[-1]]<A[i]:\n",
    "            nsli.append(stack[-1])\n",
    "        elif len(stack)>0 and A[stack[-1]]>=A[i]:\n",
    "            while len(stack)>0 and A[stack[-1]]>=A[i]:\n",
    "                stack.pop()\n",
    "                  \n",
    "            if len(stack)==0:\n",
    "                nsli.append(pl)\n",
    "            else:\n",
    "                nsli.append(stack[-1])\n",
    "           \n",
    "        stack.append(i)\n",
    "    \n",
    "    for i in range(0,l):\n",
    "        width.append(nsri[i]-nsli[i]-1)\n",
    "        Area.append(width[i]*A[i])\n",
    "    return max(Area)\n",
    "    "
   ]
  },
  {
   "cell_type": "code",
   "execution_count": 40,
   "metadata": {},
   "outputs": [
    {
     "data": {
      "text/plain": [
       "12"
      ]
     },
     "execution_count": 40,
     "metadata": {},
     "output_type": "execute_result"
    }
   ],
   "source": [
    "mxahs([6,2,5,4,5,1,6])"
   ]
  },
  {
   "cell_type": "code",
   "execution_count": null,
   "metadata": {},
   "outputs": [],
   "source": []
  }
 ],
 "metadata": {
  "kernelspec": {
   "display_name": "Python 3",
   "language": "python",
   "name": "python3"
  },
  "language_info": {
   "codemirror_mode": {
    "name": "ipython",
    "version": 3
   },
   "file_extension": ".py",
   "mimetype": "text/x-python",
   "name": "python",
   "nbconvert_exporter": "python",
   "pygments_lexer": "ipython3",
   "version": "3.7.4"
  }
 },
 "nbformat": 4,
 "nbformat_minor": 2
}
