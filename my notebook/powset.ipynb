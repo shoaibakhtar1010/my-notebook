{
 "cells": [
  {
   "cell_type": "code",
   "execution_count": 25,
   "metadata": {},
   "outputs": [
    {
     "name": "stdout",
     "output_type": "stream",
     "text": [
      "enter number:3\n",
      "moving plate from 1 to 3\n",
      "move from 1 to 2\n",
      "moving plate from 3 to 2\n",
      "move from 1 to 3\n",
      "moving plate from 2 to 1\n",
      "move from 2 to 3\n",
      "moving plate from 1 to 3\n"
     ]
    }
   ],
   "source": [
    "def TOH(n,s,h,d):\n",
    "    if n==1:\n",
    "        print(f'moving plate from {s} to {d}')\n",
    "        return\n",
    "    TOH(n-1,s,d,h)\n",
    "    print(f'move from {s} to {d}')\n",
    "    TOH(n-1,h,s,d)\n",
    "if __name__==\"__main__\":\n",
    "    n=int(input('enter number:'))\n",
    "    s=1\n",
    "    h=2\n",
    "    d=3\n",
    "    TOH(n,s,h,d)\n",
    "   \n",
    "    \n",
    "            \n",
    "            \n",
    "    "
   ]
  },
  {
   "cell_type": "code",
   "execution_count": 14,
   "metadata": {},
   "outputs": [
    {
     "name": "stdout",
     "output_type": "stream",
     "text": [
      "moving plate from 1 to 3\n",
      "move from 1 to 2\n",
      "moving plate from 3 to 2\n",
      "move from 1 to 3\n",
      "moving plate from 2 to 1\n",
      "move from 2 to 3\n",
      "moving plate from 1 to 3\n"
     ]
    }
   ],
   "source": [
    "TOH(3,1,2,3)"
   ]
  },
  {
   "cell_type": "code",
   "execution_count": 26,
   "metadata": {},
   "outputs": [],
   "source": [
    "def TOB(n,A,B,C):\n",
    "    if n>0:\n",
    "        TOB(n-1,A,C,B)\n",
    "        print(f'from {A} to {C}')\n",
    "        TOB(n-1,B,A,C)\n",
    "    "
   ]
  },
  {
   "cell_type": "code",
   "execution_count": 29,
   "metadata": {},
   "outputs": [
    {
     "name": "stdout",
     "output_type": "stream",
     "text": [
      "from 1 to 3\n"
     ]
    }
   ],
   "source": [
    "TOB(1,1,2,3)"
   ]
  },
  {
   "cell_type": "code",
   "execution_count": 30,
   "metadata": {},
   "outputs": [],
   "source": [
    "s."
   ]
  },
  {
   "cell_type": "code",
   "execution_count": 31,
   "metadata": {},
   "outputs": [
    {
     "data": {
      "text/plain": [
       "'s'"
      ]
     },
     "execution_count": 31,
     "metadata": {},
     "output_type": "execute_result"
    }
   ],
   "source": [
    "s[0]"
   ]
  },
  {
   "cell_type": "code",
   "execution_count": 3,
   "metadata": {},
   "outputs": [
    {
     "name": "stdout",
     "output_type": "stream",
     "text": [
      "Enter the string:abc\n",
      "[' ', ' c', ' b', ' bc', ' a', ' ac', ' ab', ' abc']\n"
     ]
    }
   ],
   "source": [
    "def powset(s,o):\n",
    "    if len(s)==0:\n",
    "        lis.append(o)\n",
    "        return \n",
    "    o1=o\n",
    "    o2=o+s[0]\n",
    "    powset(s[1:],o1)\n",
    "    powset(s[1:],o2)\n",
    "if __name__=='__main__':\n",
    "    string=input('Enter the string:')\n",
    "    output=' '\n",
    "    lis=[]\n",
    "    powset(string,output)\n",
    "    print(lis)\n",
    "\n"
   ]
  },
  {
   "cell_type": "code",
   "execution_count": 72,
   "metadata": {},
   "outputs": [
    {
     "data": {
      "text/plain": [
       "[' ', ' c', ' b', ' bc', ' a', ' ac', ' ab', ' abc']"
      ]
     },
     "execution_count": 72,
     "metadata": {},
     "output_type": "execute_result"
    }
   ],
   "source": [
    "lis\n"
   ]
  },
  {
   "cell_type": "code",
   "execution_count": 21,
   "metadata": {},
   "outputs": [
    {
     "name": "stdout",
     "output_type": "stream",
     "text": [
      "Enter the string:a1b2\n",
      "[' A1B2', ' A1b2', ' a1B2', ' a1b2']\n"
     ]
    }
   ],
   "source": [
    "def lettercase(s,o):\n",
    "    if len(s)==0:\n",
    "        lis.append(o)\n",
    "        return\n",
    "    if s[0].isalpha():\n",
    "        o1=o+s[0].upper()\n",
    "        o2=o+s[0].lower()\n",
    "        lettercase(s[1:],o1)\n",
    "        lettercase(s[1:],o2)\n",
    "    else:\n",
    "        o3=o+s[0]\n",
    "        lettercase(s[1:],o3)\n",
    "if __name__=='__main__':\n",
    "    string=input('Enter the string:')\n",
    "    output=' '\n",
    "    lis=[]\n",
    "    lettercase(string,output)\n",
    "    print(lis)\n",
    "\n"
   ]
  },
  {
   "cell_type": "code",
   "execution_count": 15,
   "metadata": {},
   "outputs": [],
   "source": [
    "k='A1b2'"
   ]
  },
  {
   "cell_type": "code",
   "execution_count": 16,
   "metadata": {},
   "outputs": [
    {
     "data": {
      "text/plain": [
       "'a'"
      ]
     },
     "execution_count": 16,
     "metadata": {},
     "output_type": "execute_result"
    }
   ],
   "source": [
    "k[0].lower()"
   ]
  },
  {
   "cell_type": "code",
   "execution_count": null,
   "metadata": {},
   "outputs": [],
   "source": []
  }
 ],
 "metadata": {
  "kernelspec": {
   "display_name": "Python 3",
   "language": "python",
   "name": "python3"
  },
  "language_info": {
   "codemirror_mode": {
    "name": "ipython",
    "version": 3
   },
   "file_extension": ".py",
   "mimetype": "text/x-python",
   "name": "python",
   "nbconvert_exporter": "python",
   "pygments_lexer": "ipython3",
   "version": "3.7.4"
  }
 },
 "nbformat": 4,
 "nbformat_minor": 2
}
